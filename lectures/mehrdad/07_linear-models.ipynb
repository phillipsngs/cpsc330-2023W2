{
 "cells": [
  {
   "cell_type": "markdown",
   "metadata": {
    "slideshow": {
     "slide_type": "slide"
    }
   },
   "source": [
    "![](../img/330-banner.png)"
   ]
  },
  {
   "cell_type": "markdown",
   "metadata": {
    "slideshow": {
     "slide_type": "-"
    }
   },
   "source": [
    "# Lecture 7: Linear Models\n",
    "\n",
    "\n",
    "UBC 2023-24\n",
    "\n",
    "Instructors: Mathias Lécuyer and Mehrdad Oveisi"
   ]
  },
  {
   "cell_type": "markdown",
   "metadata": {
    "slideshow": {
     "slide_type": "slide"
    }
   },
   "source": [
    "### Announcements\n",
    "\n",
    "- Remember: **HW 3 is due on Feb. 5**: https://github.com/UBC-CS/cpsc330-2023W2#deliverable-due-dates-tentative."
   ]
  },
  {
   "cell_type": "markdown",
   "metadata": {},
   "source": [
    "## Imports, and LO"
   ]
  },
  {
   "cell_type": "markdown",
   "metadata": {
    "slideshow": {
     "slide_type": "skip"
    }
   },
   "source": [
    "### Imports"
   ]
  },
  {
   "cell_type": "code",
   "execution_count": 2,
   "metadata": {
    "execution": {
     "iopub.execute_input": "2024-02-01T22:52:26.375607Z",
     "iopub.status.busy": "2024-02-01T22:52:26.375297Z",
     "iopub.status.idle": "2024-02-01T22:52:28.063162Z",
     "shell.execute_reply": "2024-02-01T22:52:28.061873Z",
     "shell.execute_reply.started": "2024-02-01T22:52:26.375583Z"
    },
    "slideshow": {
     "slide_type": "skip"
    }
   },
   "outputs": [],
   "source": [
    "import os\n",
    "import sys\n",
    "\n",
    "sys.path.append(\"../code/.\")\n",
    "\n",
    "import IPython\n",
    "import ipywidgets as widgets\n",
    "import matplotlib.pyplot as plt\n",
    "import numpy as np\n",
    "import pandas as pd\n",
    "from IPython.display import HTML, display\n",
    "from ipywidgets import interact, interactive\n",
    "from plotting_functions import *\n",
    "from sklearn.dummy import DummyClassifier\n",
    "from sklearn.feature_extraction.text import CountVectorizer, TfidfVectorizer\n",
    "from sklearn.impute import SimpleImputer\n",
    "from sklearn.model_selection import cross_val_score, cross_validate, train_test_split\n",
    "from sklearn.neighbors import KNeighborsClassifier, KNeighborsRegressor\n",
    "from sklearn.pipeline import Pipeline, make_pipeline\n",
    "from sklearn.preprocessing import OneHotEncoder, StandardScaler\n",
    "from sklearn.svm import SVC\n",
    "from sklearn.tree import DecisionTreeClassifier\n",
    "from utils import *\n",
    "\n",
    "%matplotlib inline\n",
    "pd.set_option(\"display.max_colwidth\", 200)"
   ]
  },
  {
   "cell_type": "markdown",
   "metadata": {
    "slideshow": {
     "slide_type": "skip"
    }
   },
   "source": [
    "## Learning outcomes\n",
    "\n",
    "From this lecture, students are expected to be able to: \n",
    "\n",
    "- Explain the general intuition behind linear models;\n",
    "- Explain how `predict` works for linear regression;\n",
    "- Use `scikit-learn`'s `Ridge` model; \n",
    "- Demonstrate how the `alpha` hyperparameter of `Ridge` is related to the fundamental tradeoff; \n",
    "- Explain the difference between linear regression and logistic regression;   \n",
    "- Use `scikit-learn`'s `LogisticRegression` model and `predict_proba` to get probability scores\n",
    "- Explain the advantages of getting probability scores instead of hard predictions during classification; \n",
    "- Broadly describe linear SVMs \n",
    "- Explain how can you interpret model predictions using coefficients learned by a linear model; \n",
    "- Explain the advantages and limitations of linear classifiers. "
   ]
  },
  {
   "cell_type": "markdown",
   "metadata": {
    "slideshow": {
     "slide_type": "skip"
    }
   },
   "source": [
    "<br><br>"
   ]
  },
  {
   "cell_type": "markdown",
   "metadata": {
    "slideshow": {
     "slide_type": "slide"
    }
   },
   "source": [
    "## Linear models [[video](https://youtu.be/HXd1U2q4VFA)]"
   ]
  },
  {
   "cell_type": "markdown",
   "metadata": {
    "slideshow": {
     "slide_type": "slide"
    }
   },
   "source": [
    "**Linear models** is a fundamental and widely used class of models. They are called **linear** because they make a prediction using a **linear function** of the input features.  \n",
    "\n",
    "We will talk about three linear models: \n",
    "- Linear regression \n",
    "- Logistic regression\n",
    "- Linear SVM (brief mention)"
   ]
  },
  {
   "cell_type": "markdown",
   "metadata": {
    "slideshow": {
     "slide_type": "slide"
    }
   },
   "source": [
    "### Linear regression \n",
    "\n",
    "- A very popular statistical model and has a long history.  \n",
    "- Imagine a hypothetical regression problem of **predicting weight of a snake given its length**."
   ]
  },
  {
   "cell_type": "code",
   "execution_count": 3,
   "metadata": {
    "execution": {
     "iopub.execute_input": "2024-02-01T22:52:28.065300Z",
     "iopub.status.busy": "2024-02-01T22:52:28.064784Z",
     "iopub.status.idle": "2024-02-01T22:52:28.095884Z",
     "shell.execute_reply": "2024-02-01T22:52:28.094356Z",
     "shell.execute_reply.started": "2024-02-01T22:52:28.065267Z"
    },
    "slideshow": {
     "slide_type": "slide"
    }
   },
   "outputs": [
    {
     "data": {
      "text/html": [
       "<div>\n",
       "<style scoped>\n",
       "    .dataframe tbody tr th:only-of-type {\n",
       "        vertical-align: middle;\n",
       "    }\n",
       "\n",
       "    .dataframe tbody tr th {\n",
       "        vertical-align: top;\n",
       "    }\n",
       "\n",
       "    .dataframe thead th {\n",
       "        text-align: right;\n",
       "    }\n",
       "</style>\n",
       "<table border=\"1\" class=\"dataframe\">\n",
       "  <thead>\n",
       "    <tr style=\"text-align: right;\">\n",
       "      <th></th>\n",
       "      <th>length</th>\n",
       "      <th>weight</th>\n",
       "    </tr>\n",
       "  </thead>\n",
       "  <tbody>\n",
       "    <tr>\n",
       "      <th>73</th>\n",
       "      <td>1.489130</td>\n",
       "      <td>10.507995</td>\n",
       "    </tr>\n",
       "    <tr>\n",
       "      <th>53</th>\n",
       "      <td>1.073233</td>\n",
       "      <td>7.658047</td>\n",
       "    </tr>\n",
       "    <tr>\n",
       "      <th>80</th>\n",
       "      <td>1.622709</td>\n",
       "      <td>9.748797</td>\n",
       "    </tr>\n",
       "    <tr>\n",
       "      <th>49</th>\n",
       "      <td>0.984653</td>\n",
       "      <td>9.731572</td>\n",
       "    </tr>\n",
       "    <tr>\n",
       "      <th>23</th>\n",
       "      <td>0.484937</td>\n",
       "      <td>3.016555</td>\n",
       "    </tr>\n",
       "  </tbody>\n",
       "</table>\n",
       "</div>"
      ],
      "text/plain": [
       "      length     weight\n",
       "73  1.489130  10.507995\n",
       "53  1.073233   7.658047\n",
       "80  1.622709   9.748797\n",
       "49  0.984653   9.731572\n",
       "23  0.484937   3.016555"
      ]
     },
     "execution_count": 3,
     "metadata": {},
     "output_type": "execute_result"
    }
   ],
   "source": [
    "np.random.seed(7)\n",
    "n = 100\n",
    "X_1 = np.linspace(0, 2, n) + np.random.randn(n) * 0.01\n",
    "X = pd.DataFrame(X_1[:, None], columns=[\"length\"])\n",
    "\n",
    "y = abs(np.random.randn(n, 1)) * 3 + X_1[:, None] * 5 + 0.2\n",
    "y = pd.DataFrame(y, columns=[\"weight\"])\n",
    "snakes_df = pd.concat([X, y], axis=1)\n",
    "train_df, test_df = train_test_split(snakes_df, test_size=0.2, random_state=77)\n",
    "\n",
    "X_train = train_df[[\"length\"]].values\n",
    "y_train = train_df[\"weight\"].values\n",
    "X_test = test_df[[\"length\"]].values\n",
    "y_test = test_df[\"weight\"].values\n",
    "train_df.head()"
   ]
  },
  {
   "cell_type": "markdown",
   "metadata": {
    "slideshow": {
     "slide_type": "slide"
    }
   },
   "source": [
    "Let's visualize the hypothetical snake data. "
   ]
  },
  {
   "cell_type": "code",
   "execution_count": 4,
   "metadata": {
    "execution": {
     "iopub.execute_input": "2024-02-01T22:52:28.097787Z",
     "iopub.status.busy": "2024-02-01T22:52:28.097268Z",
     "iopub.status.idle": "2024-02-01T22:52:28.326822Z",
     "shell.execute_reply": "2024-02-01T22:52:28.325725Z",
     "shell.execute_reply.started": "2024-02-01T22:52:28.097746Z"
    }
   },
   "outputs": [
    {
     "data": {
      "image/png": "[encoded data removed]",
      "text/plain": [
       "<Figure size 640x480 with 1 Axes>"
      ]
     },
     "metadata": {},
     "output_type": "display_data"
    }
   ],
   "source": [
    "plt.plot(X_train, y_train, \".\", markersize=10)\n",
    "plt.xlabel(\"length\")\n",
    "plt.ylabel(\"weight (target)\");"
   ]
  },
  {
   "cell_type": "markdown",
   "metadata": {
    "slideshow": {
     "slide_type": "slide"
    }
   },
   "source": [
    "Let's plot a linear regression model on this dataset. "
   ]
  },
  {
   "cell_type": "code",
   "execution_count": 5,
   "metadata": {
    "execution": {
     "iopub.execute_input": "2024-02-01T22:52:28.328366Z",
     "iopub.status.busy": "2024-02-01T22:52:28.328102Z",
     "iopub.status.idle": "2024-02-01T22:52:28.333378Z",
     "shell.execute_reply": "2024-02-01T22:52:28.332450Z",
     "shell.execute_reply.started": "2024-02-01T22:52:28.328345Z"
    }
   },
   "outputs": [],
   "source": [
    "grid = np.linspace(min(X_train)[0], max(X_train)[0], 1000)\n",
    "grid = grid.reshape(-1, 1)"
   ]
  },
  {
   "cell_type": "code",
   "execution_count": 6,
   "metadata": {
    "execution": {
     "iopub.execute_input": "2024-02-01T22:52:28.334642Z",
     "iopub.status.busy": "2024-02-01T22:52:28.334254Z",
     "iopub.status.idle": "2024-02-01T22:52:28.516612Z",
     "shell.execute_reply": "2024-02-01T22:52:28.515617Z",
     "shell.execute_reply.started": "2024-02-01T22:52:28.334604Z"
    },
    "slideshow": {
     "slide_type": "slide"
    }
   },
   "outputs": [
    {
     "data": {
      "image/png": "[encoded data removed]",
      "text/plain": [
       "<Figure size 640x480 with 1 Axes>"
      ]
     },
     "metadata": {},
     "output_type": "display_data"
    }
   ],
   "source": [
    "from sklearn.linear_model import Ridge\n",
    "\n",
    "r = Ridge()\n",
    "r.fit(X_train, y_train)\n",
    "plt.plot(X_train, y_train, \".\", markersize=10)\n",
    "plt.plot(grid, r.predict(grid))\n",
    "plt.grid(True)\n",
    "plt.xlabel(\"length\")\n",
    "plt.ylabel(\"weight (target)\");"
   ]
  },
  {
   "cell_type": "markdown",
   "metadata": {},
   "source": [
    "**The orange line is the learned linear model.**"
   ]
  },
  {
   "cell_type": "markdown",
   "metadata": {
    "slideshow": {
     "slide_type": "slide"
    }
   },
   "source": [
    "### Prediction of linear regression\n",
    "\n",
    "- Given a snake length, we can use the model above to predict the target (i.e., the weight of the snake). \n",
    "- The prediction will be the corresponding weight on the orange line. "
   ]
  },
  {
   "cell_type": "code",
   "execution_count": 7,
   "metadata": {
    "execution": {
     "iopub.execute_input": "2024-02-01T22:52:28.518174Z",
     "iopub.status.busy": "2024-02-01T22:52:28.517880Z",
     "iopub.status.idle": "2024-02-01T22:52:28.527830Z",
     "shell.execute_reply": "2024-02-01T22:52:28.525773Z",
     "shell.execute_reply.started": "2024-02-01T22:52:28.518149Z"
    }
   },
   "outputs": [
    {
     "data": {
      "text/plain": [
       "array([6.20683258])"
      ]
     },
     "execution_count": 7,
     "metadata": {},
     "output_type": "execute_result"
    }
   ],
   "source": [
    "snake_length = 0.75\n",
    "r.predict([[snake_length]])"
   ]
  },
  {
   "cell_type": "markdown",
   "metadata": {
    "slideshow": {
     "slide_type": "slide"
    }
   },
   "source": [
    "#### What are we exactly learning? \n",
    "\n",
    "- The model above is a **line**, which can be represented with a **slope** (i.e., coefficient or weight) and an **intercept**. \n",
    "- For the above model, we can access the slope (i.e., coefficient or weight) and the intercept using `coef_` and `intercept_`, respectively. "
   ]
  },
  {
   "cell_type": "code",
   "execution_count": 8,
   "metadata": {
    "execution": {
     "iopub.execute_input": "2024-02-01T22:52:28.535259Z",
     "iopub.status.busy": "2024-02-01T22:52:28.533806Z",
     "iopub.status.idle": "2024-02-01T22:52:28.544089Z",
     "shell.execute_reply": "2024-02-01T22:52:28.542595Z",
     "shell.execute_reply.started": "2024-02-01T22:52:28.535173Z"
    }
   },
   "outputs": [
    {
     "data": {
      "text/plain": [
       "array([5.26370005])"
      ]
     },
     "execution_count": 8,
     "metadata": {},
     "output_type": "execute_result"
    }
   ],
   "source": [
    "r.coef_  # r is our linear regression object"
   ]
  },
  {
   "cell_type": "code",
   "execution_count": 9,
   "metadata": {
    "execution": {
     "iopub.execute_input": "2024-02-01T22:52:28.545695Z",
     "iopub.status.busy": "2024-02-01T22:52:28.545352Z",
     "iopub.status.idle": "2024-02-01T22:52:28.555835Z",
     "shell.execute_reply": "2024-02-01T22:52:28.554345Z",
     "shell.execute_reply.started": "2024-02-01T22:52:28.545660Z"
    }
   },
   "outputs": [
    {
     "data": {
      "text/plain": [
       "2.259057547817185"
      ]
     },
     "execution_count": 9,
     "metadata": {},
     "output_type": "execute_result"
    }
   ],
   "source": [
    "r.intercept_  # r is our linear regression object"
   ]
  },
  {
   "cell_type": "markdown",
   "metadata": {
    "slideshow": {
     "slide_type": "slide"
    }
   },
   "source": [
    "### How are we making predictions? \n",
    "- Given a feature value $x_1$ and learned coefficient $w_1$ and intercept $b$, we can get the prediction $\\hat{y}$ with the following formula:\n",
    "$$\\hat{y} = w_1x_1 + b$$"
   ]
  },
  {
   "cell_type": "code",
   "execution_count": 10,
   "metadata": {
    "execution": {
     "iopub.execute_input": "2024-02-01T22:52:28.558471Z",
     "iopub.status.busy": "2024-02-01T22:52:28.557586Z",
     "iopub.status.idle": "2024-02-01T22:52:28.569980Z",
     "shell.execute_reply": "2024-02-01T22:52:28.568096Z",
     "shell.execute_reply.started": "2024-02-01T22:52:28.558426Z"
    }
   },
   "outputs": [
    {
     "data": {
      "text/plain": [
       "array([6.20683258])"
      ]
     },
     "execution_count": 10,
     "metadata": {},
     "output_type": "execute_result"
    }
   ],
   "source": [
    "prediction = snake_length * r.coef_ + r.intercept_\n",
    "prediction"
   ]
  },
  {
   "cell_type": "code",
   "execution_count": 11,
   "metadata": {
    "execution": {
     "iopub.execute_input": "2024-02-01T22:52:28.571821Z",
     "iopub.status.busy": "2024-02-01T22:52:28.571542Z",
     "iopub.status.idle": "2024-02-01T22:52:28.582926Z",
     "shell.execute_reply": "2024-02-01T22:52:28.581399Z",
     "shell.execute_reply.started": "2024-02-01T22:52:28.571801Z"
    }
   },
   "outputs": [
    {
     "data": {
      "text/plain": [
       "array([6.20683258])"
      ]
     },
     "execution_count": 11,
     "metadata": {},
     "output_type": "execute_result"
    }
   ],
   "source": [
    "r.predict([[snake_length]])"
   ]
  },
  {
   "cell_type": "markdown",
   "metadata": {},
   "source": [
    "Great! Now we exactly know how the model is making the prediction. "
   ]
  },
  {
   "cell_type": "markdown",
   "metadata": {
    "slideshow": {
     "slide_type": "slide"
    }
   },
   "source": [
    "### Generalizing to more features\n",
    "For more features, the model is a higher dimensional hyperplane and the general prediction formula looks as follows: \n",
    "\n",
    "$\\hat{y} =$ <font color=\"red\">$w_1$</font> <font color=\"blue\">$x_1$ </font> $+ \\dots +$ <font color=\"red\">$w_d$</font> <font color=\"blue\">$x_d$</font> + <font  color=\"green\"> $b$</font>\n",
    "\n",
    "where, \n",
    "- <font  color=\"blue\"> ($x_1, \\dots, x_d$) are input features </font>\n",
    "- <font  color=\"red\"> ($w_1, \\dots, w_d$) are coefficients or weights </font> (learned from the data)\n",
    "- <font  color=\"green\"> $b$ is the bias which can be used to offset your hyperplane </font> (learned from the data)"
   ]
  },
  {
   "cell_type": "markdown",
   "metadata": {
    "slideshow": {
     "slide_type": "slide"
    },
    "tags": []
   },
   "source": [
    "### Example \n",
    "\n",
    "- Suppose these are the coefficients learned by a linear regression model on a hypothetical housing price prediction dataset. \n",
    "\n",
    "| Feature | Learned coefficient |\n",
    "|--------------------|---------------------:|\n",
    "| Bedrooms | 0.20 |\n",
    "| Bathrooms| 0.11 |\n",
    "| Square Footage | 0.002 |\n",
    "| Age | -0.02 |\n",
    "\n",
    "- Now given a new example, the target will be predicted as follows: \n",
    "| Bedrooms | Bathrooms | Square Footage | Age |\n",
    "|--------------------|---------------------|----------------|-----| \n",
    "| 3                  | 2                   | 1875           | 66  |"
   ]
  },
  {
   "cell_type": "markdown",
   "metadata": {},
   "source": [
    "$$\\hat{y} = w_1x_1 + w_2x_2 + w_3x_3 + w_4x_4 + b$$\n",
    "\n",
    "$$\\text{predicted price}=  0.20 \\times 3 + 0.11 \\times 2 + 0.002 \\times 1875 + (-0.02) \\times 66 + b$$"
   ]
  },
  {
   "cell_type": "markdown",
   "metadata": {
    "slideshow": {
     "slide_type": "skip"
    }
   },
   "source": [
    "When we call `fit`, a coefficient or weight is learned for each feature which tells us the role of that feature in prediction. These coefficients are learned from the training data.  "
   ]
  },
  {
   "cell_type": "markdown",
   "metadata": {
    "slideshow": {
     "slide_type": "skip"
    }
   },
   "source": [
    "___\n",
    "In linear models for regression, the model is a line for a single feature, a plane for two features, and a hyperplane for higher dimensions. We are not yet ready to discuss how does linear regression learn these coefficients and intercept.\n",
    "___"
   ]
  },
  {
   "cell_type": "markdown",
   "metadata": {
    "slideshow": {
     "slide_type": "slide"
    }
   },
   "source": [
    "### `Ridge`\n",
    "\n",
    "- `scikit-learn` has a model called `LinearRegression` for linear regression. \n",
    "- But if we use this \"vanilla\" version of linear regression, it may result in large coefficients and unexpected results. \n",
    "- So instead of using `LinearRegression`, we will _always use another linear model called `Ridge`_, which is a linear regression model with a complexity **hyperparameter** `alpha`."
   ]
  },
  {
   "cell_type": "code",
   "execution_count": 12,
   "metadata": {
    "execution": {
     "iopub.execute_input": "2024-02-01T22:52:28.585502Z",
     "iopub.status.busy": "2024-02-01T22:52:28.584745Z",
     "iopub.status.idle": "2024-02-01T22:52:28.593000Z",
     "shell.execute_reply": "2024-02-01T22:52:28.590884Z",
     "shell.execute_reply.started": "2024-02-01T22:52:28.585452Z"
    }
   },
   "outputs": [],
   "source": [
    "from sklearn.linear_model import LinearRegression  # DO NOT USE IT IN THIS COURSE\n",
    "from sklearn.linear_model import Ridge  # USE THIS INSTEAD"
   ]
  },
  {
   "cell_type": "markdown",
   "metadata": {
    "slideshow": {
     "slide_type": "slide"
    }
   },
   "source": [
    "#### Data: California Housing dataset"
   ]
  },
  {
   "cell_type": "code",
   "execution_count": 13,
   "metadata": {
    "execution": {
     "iopub.execute_input": "2024-02-01T22:52:28.595288Z",
     "iopub.status.busy": "2024-02-01T22:52:28.594650Z",
     "iopub.status.idle": "2024-02-01T22:52:28.626730Z",
     "shell.execute_reply": "2024-02-01T22:52:28.625852Z",
     "shell.execute_reply.started": "2024-02-01T22:52:28.595264Z"
    },
    "slideshow": {
     "slide_type": "slide"
    }
   },
   "outputs": [
    {
     "data": {
      "text/html": [
       "<div>\n",
       "<style scoped>\n",
       "    .dataframe tbody tr th:only-of-type {\n",
       "        vertical-align: middle;\n",
       "    }\n",
       "\n",
       "    .dataframe tbody tr th {\n",
       "        vertical-align: top;\n",
       "    }\n",
       "\n",
       "    .dataframe thead th {\n",
       "        text-align: right;\n",
       "    }\n",
       "</style>\n",
       "<table border=\"1\" class=\"dataframe\">\n",
       "  <thead>\n",
       "    <tr style=\"text-align: right;\">\n",
       "      <th></th>\n",
       "      <th>MedInc</th>\n",
       "      <th>HouseAge</th>\n",
       "      <th>AveRooms</th>\n",
       "      <th>AveBedrms</th>\n",
       "      <th>Population</th>\n",
       "      <th>AveOccup</th>\n",
       "      <th>Latitude</th>\n",
       "      <th>Longitude</th>\n",
       "    </tr>\n",
       "  </thead>\n",
       "  <tbody>\n",
       "    <tr>\n",
       "      <th>0</th>\n",
       "      <td>2.0000</td>\n",
       "      <td>52.0</td>\n",
       "      <td>5.303030</td>\n",
       "      <td>1.082251</td>\n",
       "      <td>725.0</td>\n",
       "      <td>3.138528</td>\n",
       "      <td>38.03</td>\n",
       "      <td>-121.88</td>\n",
       "    </tr>\n",
       "    <tr>\n",
       "      <th>1</th>\n",
       "      <td>2.0000</td>\n",
       "      <td>52.0</td>\n",
       "      <td>5.506410</td>\n",
       "      <td>1.134615</td>\n",
       "      <td>1026.0</td>\n",
       "      <td>3.288462</td>\n",
       "      <td>34.00</td>\n",
       "      <td>-118.30</td>\n",
       "    </tr>\n",
       "    <tr>\n",
       "      <th>2</th>\n",
       "      <td>4.0474</td>\n",
       "      <td>30.0</td>\n",
       "      <td>5.419355</td>\n",
       "      <td>1.006452</td>\n",
       "      <td>858.0</td>\n",
       "      <td>2.767742</td>\n",
       "      <td>37.31</td>\n",
       "      <td>-121.94</td>\n",
       "    </tr>\n",
       "    <tr>\n",
       "      <th>3</th>\n",
       "      <td>3.2794</td>\n",
       "      <td>7.0</td>\n",
       "      <td>5.546473</td>\n",
       "      <td>1.044166</td>\n",
       "      <td>5146.0</td>\n",
       "      <td>3.392221</td>\n",
       "      <td>34.46</td>\n",
       "      <td>-117.20</td>\n",
       "    </tr>\n",
       "    <tr>\n",
       "      <th>4</th>\n",
       "      <td>2.5551</td>\n",
       "      <td>35.0</td>\n",
       "      <td>4.018487</td>\n",
       "      <td>1.016807</td>\n",
       "      <td>1886.0</td>\n",
       "      <td>3.169748</td>\n",
       "      <td>37.35</td>\n",
       "      <td>-121.86</td>\n",
       "    </tr>\n",
       "    <tr>\n",
       "      <th>...</th>\n",
       "      <td>...</td>\n",
       "      <td>...</td>\n",
       "      <td>...</td>\n",
       "      <td>...</td>\n",
       "      <td>...</td>\n",
       "      <td>...</td>\n",
       "      <td>...</td>\n",
       "      <td>...</td>\n",
       "    </tr>\n",
       "    <tr>\n",
       "      <th>16507</th>\n",
       "      <td>3.0185</td>\n",
       "      <td>17.0</td>\n",
       "      <td>4.205479</td>\n",
       "      <td>0.863014</td>\n",
       "      <td>434.0</td>\n",
       "      <td>1.981735</td>\n",
       "      <td>34.61</td>\n",
       "      <td>-120.16</td>\n",
       "    </tr>\n",
       "    <tr>\n",
       "      <th>16508</th>\n",
       "      <td>12.6320</td>\n",
       "      <td>5.0</td>\n",
       "      <td>7.462963</td>\n",
       "      <td>0.888889</td>\n",
       "      <td>208.0</td>\n",
       "      <td>3.851852</td>\n",
       "      <td>34.44</td>\n",
       "      <td>-119.31</td>\n",
       "    </tr>\n",
       "    <tr>\n",
       "      <th>16509</th>\n",
       "      <td>3.9808</td>\n",
       "      <td>20.0</td>\n",
       "      <td>5.678689</td>\n",
       "      <td>1.006557</td>\n",
       "      <td>999.0</td>\n",
       "      <td>3.275410</td>\n",
       "      <td>38.28</td>\n",
       "      <td>-121.20</td>\n",
       "    </tr>\n",
       "    <tr>\n",
       "      <th>16510</th>\n",
       "      <td>5.8195</td>\n",
       "      <td>25.0</td>\n",
       "      <td>6.585513</td>\n",
       "      <td>0.961771</td>\n",
       "      <td>1645.0</td>\n",
       "      <td>3.309859</td>\n",
       "      <td>33.71</td>\n",
       "      <td>-117.97</td>\n",
       "    </tr>\n",
       "    <tr>\n",
       "      <th>16511</th>\n",
       "      <td>3.7315</td>\n",
       "      <td>20.0</td>\n",
       "      <td>7.368304</td>\n",
       "      <td>1.738839</td>\n",
       "      <td>1085.0</td>\n",
       "      <td>2.421875</td>\n",
       "      <td>37.58</td>\n",
       "      <td>-118.74</td>\n",
       "    </tr>\n",
       "  </tbody>\n",
       "</table>\n",
       "<p>16512 rows × 8 columns</p>\n",
       "</div>"
      ],
      "text/plain": [
       "        MedInc  HouseAge  AveRooms  AveBedrms  Population  AveOccup  Latitude  \\\n",
       "0       2.0000      52.0  5.303030   1.082251       725.0  3.138528     38.03   \n",
       "1       2.0000      52.0  5.506410   1.134615      1026.0  3.288462     34.00   \n",
       "2       4.0474      30.0  5.419355   1.006452       858.0  2.767742     37.31   \n",
       "3       3.2794       7.0  5.546473   1.044166      5146.0  3.392221     34.46   \n",
       "4       2.5551      35.0  4.018487   1.016807      1886.0  3.169748     37.35   \n",
       "...        ...       ...       ...        ...         ...       ...       ...   \n",
       "16507   3.0185      17.0  4.205479   0.863014       434.0  1.981735     34.61   \n",
       "16508  12.6320       5.0  7.462963   0.888889       208.0  3.851852     34.44   \n",
       "16509   3.9808      20.0  5.678689   1.006557       999.0  3.275410     38.28   \n",
       "16510   5.8195      25.0  6.585513   0.961771      1645.0  3.309859     33.71   \n",
       "16511   3.7315      20.0  7.368304   1.738839      1085.0  2.421875     37.58   \n",
       "\n",
       "       Longitude  \n",
       "0        -121.88  \n",
       "1        -118.30  \n",
       "2        -121.94  \n",
       "3        -117.20  \n",
       "4        -121.86  \n",
       "...          ...  \n",
       "16507    -120.16  \n",
       "16508    -119.31  \n",
       "16509    -121.20  \n",
       "16510    -117.97  \n",
       "16511    -118.74  \n",
       "\n",
       "[16512 rows x 8 columns]"
      ]
     },
     "execution_count": 13,
     "metadata": {},
     "output_type": "execute_result"
    }
   ],
   "source": [
    "from sklearn.datasets import fetch_california_housing\n",
    "\n",
    "\n",
    "california = fetch_california_housing()\n",
    "X_train, X_test, y_train, y_test = train_test_split(\n",
    "    california.data, california.target, test_size=0.2\n",
    ")\n",
    "pd.DataFrame(X_train, columns=california.feature_names)"
   ]
  },
  {
   "cell_type": "code",
   "execution_count": 14,
   "metadata": {
    "execution": {
     "iopub.execute_input": "2024-02-01T22:52:28.627914Z",
     "iopub.status.busy": "2024-02-01T22:52:28.627664Z",
     "iopub.status.idle": "2024-02-01T22:52:28.633655Z",
     "shell.execute_reply": "2024-02-01T22:52:28.632436Z",
     "shell.execute_reply.started": "2024-02-01T22:52:28.627896Z"
    },
    "scrolled": true,
    "slideshow": {
     "slide_type": "slide"
    }
   },
   "outputs": [
    {
     "name": "stdout",
     "output_type": "stream",
     "text": [
      ".. _california_housing_dataset:\n",
      "\n",
      "California Housing dataset\n",
      "--------------------------\n",
      "\n",
      "**Data Set Characteristics:**\n",
      "\n",
      "    :Number of Instances: 20640\n",
      "\n",
      "    :Number of Attributes: 8 numeric, predictive attributes and the target\n",
      "\n",
      "    :Attribute Information:\n",
      "        - MedInc        median income in block group\n",
      "        - HouseAge      median house age in block group\n",
      "        - AveRooms      average number of rooms per household\n",
      "        - AveBedrms     average number of bedrooms per household\n",
      "        - Population    block group population\n",
      "        - AveOccup      average number of household members\n",
      "        - Latitude      block group latitude\n",
      "        - Longitude     block group longitude\n",
      "\n",
      "    :Missing Attribute Values: None\n",
      "\n",
      "This dataset was obtained from the StatLib repository.\n",
      "https://www.dcc.fc.up.pt/~ltorgo/Regression/cal_housing.html\n",
      "\n",
      "The target variable is the median house value for California districts,\n",
      "expressed in hundreds of thousands of dollars ($100,000).\n",
      "\n",
      "This dataset was derived from the 1990 U.S. census, using one row per census\n",
      "block group. A block group is the smallest geographical unit for which the U.S.\n",
      "Census Bureau publishes sample data (a block group typically has a population\n",
      "of 600 to 3,000 people).\n",
      "\n",
      "A household is a group of people residing within a home. Since the average\n",
      "number of rooms and bedrooms in this dataset are provided per household, these\n",
      "columns may take surprisingly large values for block groups with few households\n",
      "and many empty houses, such as vacation resorts.\n",
      "\n",
      "It can be downloaded/loaded using the\n",
      ":func:`sklearn.datasets.fetch_california_housing` function.\n",
      "\n",
      ".. topic:: References\n",
      "\n",
      "    - Pace, R. Kelley and Ronald Barry, Sparse Spatial Autoregressions,\n",
      "      Statistics and Probability Letters, 33 (1997) 291-297\n",
      "\n"
     ]
    }
   ],
   "source": [
    "print(california.DESCR)"
   ]
  },
  {
   "cell_type": "markdown",
   "metadata": {
    "slideshow": {
     "slide_type": "slide"
    }
   },
   "source": [
    "#### `Ridge` on the California housing dataset"
   ]
  },
  {
   "cell_type": "code",
   "execution_count": 15,
   "metadata": {
    "execution": {
     "iopub.execute_input": "2024-02-01T22:52:28.636896Z",
     "iopub.status.busy": "2024-02-01T22:52:28.636500Z",
     "iopub.status.idle": "2024-02-01T22:52:28.896682Z",
     "shell.execute_reply": "2024-02-01T22:52:28.894909Z",
     "shell.execute_reply.started": "2024-02-01T22:52:28.636866Z"
    }
   },
   "outputs": [
    {
     "data": {
      "text/html": [
       "<div>\n",
       "<style scoped>\n",
       "    .dataframe tbody tr th:only-of-type {\n",
       "        vertical-align: middle;\n",
       "    }\n",
       "\n",
       "    .dataframe tbody tr th {\n",
       "        vertical-align: top;\n",
       "    }\n",
       "\n",
       "    .dataframe thead th {\n",
       "        text-align: right;\n",
       "    }\n",
       "</style>\n",
       "<table border=\"1\" class=\"dataframe\">\n",
       "  <thead>\n",
       "    <tr style=\"text-align: right;\">\n",
       "      <th></th>\n",
       "      <th>fit_time</th>\n",
       "      <th>score_time</th>\n",
       "      <th>test_score</th>\n",
       "      <th>train_score</th>\n",
       "    </tr>\n",
       "  </thead>\n",
       "  <tbody>\n",
       "    <tr>\n",
       "      <th>0</th>\n",
       "      <td>0.006143</td>\n",
       "      <td>0.001342</td>\n",
       "      <td>0.599492</td>\n",
       "      <td>0.608050</td>\n",
       "    </tr>\n",
       "    <tr>\n",
       "      <th>1</th>\n",
       "      <td>0.005981</td>\n",
       "      <td>0.001203</td>\n",
       "      <td>0.613507</td>\n",
       "      <td>0.604619</td>\n",
       "    </tr>\n",
       "    <tr>\n",
       "      <th>2</th>\n",
       "      <td>0.009492</td>\n",
       "      <td>0.002447</td>\n",
       "      <td>0.598100</td>\n",
       "      <td>0.608468</td>\n",
       "    </tr>\n",
       "    <tr>\n",
       "      <th>3</th>\n",
       "      <td>0.006980</td>\n",
       "      <td>0.001618</td>\n",
       "      <td>0.612621</td>\n",
       "      <td>0.604797</td>\n",
       "    </tr>\n",
       "    <tr>\n",
       "      <th>4</th>\n",
       "      <td>0.004918</td>\n",
       "      <td>0.001591</td>\n",
       "      <td>0.601790</td>\n",
       "      <td>0.606902</td>\n",
       "    </tr>\n",
       "  </tbody>\n",
       "</table>\n",
       "</div>"
      ],
      "text/plain": [
       "   fit_time  score_time  test_score  train_score\n",
       "0  0.006143    0.001342    0.599492     0.608050\n",
       "1  0.005981    0.001203    0.613507     0.604619\n",
       "2  0.009492    0.002447    0.598100     0.608468\n",
       "3  0.006980    0.001618    0.612621     0.604797\n",
       "4  0.004918    0.001591    0.601790     0.606902"
      ]
     },
     "execution_count": 15,
     "metadata": {},
     "output_type": "execute_result"
    }
   ],
   "source": [
    "pipe = make_pipeline(StandardScaler(), Ridge())\n",
    "scores = cross_validate(pipe, X_train, y_train, return_train_score=True)\n",
    "pd.DataFrame(scores)"
   ]
  },
  {
   "cell_type": "code",
   "execution_count": 16,
   "metadata": {
    "execution": {
     "iopub.execute_input": "2024-02-01T22:52:28.898575Z",
     "iopub.status.busy": "2024-02-01T22:52:28.897879Z",
     "iopub.status.idle": "2024-02-01T22:52:28.921863Z",
     "shell.execute_reply": "2024-02-01T22:52:28.920271Z",
     "shell.execute_reply.started": "2024-02-01T22:52:28.898540Z"
    },
    "tags": []
   },
   "outputs": [
    {
     "data": {
      "text/html": [
       "<div>\n",
       "<style scoped>\n",
       "    .dataframe tbody tr th:only-of-type {\n",
       "        vertical-align: middle;\n",
       "    }\n",
       "\n",
       "    .dataframe tbody tr th {\n",
       "        vertical-align: top;\n",
       "    }\n",
       "\n",
       "    .dataframe thead th {\n",
       "        text-align: right;\n",
       "    }\n",
       "</style>\n",
       "<table border=\"1\" class=\"dataframe\">\n",
       "  <thead>\n",
       "    <tr style=\"text-align: right;\">\n",
       "      <th></th>\n",
       "      <th>fit_time</th>\n",
       "      <th>score_time</th>\n",
       "      <th>test_score</th>\n",
       "      <th>train_score</th>\n",
       "    </tr>\n",
       "  </thead>\n",
       "  <tbody>\n",
       "    <tr>\n",
       "      <th>mean</th>\n",
       "      <td>0.006703</td>\n",
       "      <td>0.00164</td>\n",
       "      <td>0.605102</td>\n",
       "      <td>0.606567</td>\n",
       "    </tr>\n",
       "  </tbody>\n",
       "</table>\n",
       "</div>"
      ],
      "text/plain": [
       "      fit_time  score_time  test_score  train_score\n",
       "mean  0.006703     0.00164    0.605102     0.606567"
      ]
     },
     "execution_count": 16,
     "metadata": {},
     "output_type": "execute_result"
    }
   ],
   "source": [
    "pd.DataFrame(scores).mean().rename('mean').to_frame().T"
   ]
  },
  {
   "cell_type": "markdown",
   "metadata": {
    "slideshow": {
     "slide_type": "slide"
    }
   },
   "source": [
    "#### Hyperparameter `alpha` of `Ridge`"
   ]
  },
  {
   "cell_type": "markdown",
   "metadata": {},
   "source": [
    "- Ridge has hyperparameters just like the rest of the models we learned.\n",
    "- The alpha hyperparameter is what makes `Ridge` different from vanilla `LinearRegression`. \n",
    "- Similar to the other hyperparameters that we saw, `alpha` controls the fundamental tradeoff. "
   ]
  },
  {
   "cell_type": "markdown",
   "metadata": {
    "slideshow": {
     "slide_type": "skip"
    }
   },
   "source": [
    "___\n",
    "If we set `alpha=0` that is the same as using `LinearRegression`.\n",
    "___"
   ]
  },
  {
   "cell_type": "markdown",
   "metadata": {
    "slideshow": {
     "slide_type": "slide"
    }
   },
   "source": [
    "Let's examine the effect of `alpha` on the fundamental tradeoff. "
   ]
  },
  {
   "cell_type": "code",
   "execution_count": 17,
   "metadata": {
    "execution": {
     "iopub.execute_input": "2024-02-01T22:52:28.925060Z",
     "iopub.status.busy": "2024-02-01T22:52:28.924074Z",
     "iopub.status.idle": "2024-02-01T22:52:29.981828Z",
     "shell.execute_reply": "2024-02-01T22:52:29.979816Z",
     "shell.execute_reply.started": "2024-02-01T22:52:28.924983Z"
    }
   },
   "outputs": [],
   "source": [
    "scores_dict = {\n",
    "    \"alpha\": 10.0 ** np.arange(-3, 6, 1),\n",
    "    \"mean_train_scores\": list(),\n",
    "    \"mean_cv_scores\": list(),\n",
    "}\n",
    "for alpha in scores_dict[\"alpha\"]:\n",
    "    pipe_ridge = make_pipeline(StandardScaler(), Ridge(alpha=alpha))\n",
    "    scores = cross_validate(pipe_ridge, X_train, y_train, return_train_score=True)\n",
    "    scores_dict[\"mean_train_scores\"].append(scores[\"train_score\"].mean())\n",
    "    scores_dict[\"mean_cv_scores\"].append(scores[\"test_score\"].mean())\n",
    "\n",
    "results_df = pd.DataFrame(scores_dict)"
   ]
  },
  {
   "cell_type": "code",
   "execution_count": 18,
   "metadata": {
    "execution": {
     "iopub.execute_input": "2024-02-01T22:52:29.984932Z",
     "iopub.status.busy": "2024-02-01T22:52:29.983939Z",
     "iopub.status.idle": "2024-02-01T22:52:30.014446Z",
     "shell.execute_reply": "2024-02-01T22:52:30.013228Z",
     "shell.execute_reply.started": "2024-02-01T22:52:29.984867Z"
    },
    "slideshow": {
     "slide_type": "slide"
    },
    "tags": []
   },
   "outputs": [
    {
     "data": {
      "text/html": [
       "<div>\n",
       "<style scoped>\n",
       "    .dataframe tbody tr th:only-of-type {\n",
       "        vertical-align: middle;\n",
       "    }\n",
       "\n",
       "    .dataframe tbody tr th {\n",
       "        vertical-align: top;\n",
       "    }\n",
       "\n",
       "    .dataframe thead th {\n",
       "        text-align: right;\n",
       "    }\n",
       "</style>\n",
       "<table border=\"1\" class=\"dataframe\">\n",
       "  <thead>\n",
       "    <tr style=\"text-align: right;\">\n",
       "      <th></th>\n",
       "      <th>mean_train_scores</th>\n",
       "      <th>mean_cv_scores</th>\n",
       "    </tr>\n",
       "    <tr>\n",
       "      <th>alpha</th>\n",
       "      <th></th>\n",
       "      <th></th>\n",
       "    </tr>\n",
       "  </thead>\n",
       "  <tbody>\n",
       "    <tr>\n",
       "      <th>0.001</th>\n",
       "      <td>0.606567</td>\n",
       "      <td>0.605101</td>\n",
       "    </tr>\n",
       "    <tr>\n",
       "      <th>0.010</th>\n",
       "      <td>0.606567</td>\n",
       "      <td>0.605101</td>\n",
       "    </tr>\n",
       "    <tr>\n",
       "      <th>0.100</th>\n",
       "      <td>0.606567</td>\n",
       "      <td>0.605101</td>\n",
       "    </tr>\n",
       "    <tr>\n",
       "      <th>1.000</th>\n",
       "      <td>0.606567</td>\n",
       "      <td>0.605102</td>\n",
       "    </tr>\n",
       "    <tr>\n",
       "      <th>10.000</th>\n",
       "      <td>0.606557</td>\n",
       "      <td>0.605100</td>\n",
       "    </tr>\n",
       "    <tr>\n",
       "      <th>100.000</th>\n",
       "      <td>0.605696</td>\n",
       "      <td>0.604320</td>\n",
       "    </tr>\n",
       "    <tr>\n",
       "      <th>1000.000</th>\n",
       "      <td>0.579432</td>\n",
       "      <td>0.578523</td>\n",
       "    </tr>\n",
       "    <tr>\n",
       "      <th>10000.000</th>\n",
       "      <td>0.431137</td>\n",
       "      <td>0.430868</td>\n",
       "    </tr>\n",
       "    <tr>\n",
       "      <th>100000.000</th>\n",
       "      <td>0.116167</td>\n",
       "      <td>0.115956</td>\n",
       "    </tr>\n",
       "  </tbody>\n",
       "</table>\n",
       "</div>"
      ],
      "text/plain": [
       "            mean_train_scores  mean_cv_scores\n",
       "alpha                                        \n",
       "0.001                0.606567        0.605101\n",
       "0.010                0.606567        0.605101\n",
       "0.100                0.606567        0.605101\n",
       "1.000                0.606567        0.605102\n",
       "10.000               0.606557        0.605100\n",
       "100.000              0.605696        0.604320\n",
       "1000.000             0.579432        0.578523\n",
       "10000.000            0.431137        0.430868\n",
       "100000.000           0.116167        0.115956"
      ]
     },
     "execution_count": 18,
     "metadata": {},
     "output_type": "execute_result"
    }
   ],
   "source": [
    "results_df.set_index('alpha')"
   ]
  },
  {
   "cell_type": "code",
   "execution_count": 19,
   "metadata": {
    "execution": {
     "iopub.execute_input": "2024-02-01T22:52:30.028958Z",
     "iopub.status.busy": "2024-02-01T22:52:30.028171Z",
     "iopub.status.idle": "2024-02-01T22:52:30.425078Z",
     "shell.execute_reply": "2024-02-01T22:52:30.423721Z",
     "shell.execute_reply.started": "2024-02-01T22:52:30.028915Z"
    },
    "slideshow": {
     "slide_type": "slide"
    },
    "tags": []
   },
   "outputs": [
    {
     "data": {
      "image/png": "[encoded data removed]",
      "text/plain": [
       "<Figure size 640x480 with 1 Axes>"
      ]
     },
     "metadata": {},
     "output_type": "display_data"
    }
   ],
   "source": [
    "# Plot only the top part of the table for better viewing\n",
    "results_df.set_index('alpha').head(7).plot(logx=True);"
   ]
  },
  {
   "cell_type": "markdown",
   "metadata": {
    "slideshow": {
     "slide_type": "-"
    }
   },
   "source": [
    "Here we do not really see overfitting but in general, \n",
    "- larger `alpha` $\\rightarrow$ likely to underfit\n",
    "- smaller `alpha` $\\rightarrow$ likely to overfit"
   ]
  },
  {
   "cell_type": "markdown",
   "metadata": {
    "slideshow": {
     "slide_type": "slide"
    }
   },
   "source": [
    "#### Coefficients and intercept\n",
    "\n",
    "The model learns \n",
    "- coefficients associated with each feature\n",
    "- the intercept or bias"
   ]
  },
  {
   "cell_type": "markdown",
   "metadata": {},
   "source": [
    "Let's examine the coefficients learned by the model. "
   ]
  },
  {
   "cell_type": "code",
   "execution_count": 20,
   "metadata": {
    "execution": {
     "iopub.execute_input": "2024-02-01T22:52:30.426679Z",
     "iopub.status.busy": "2024-02-01T22:52:30.426270Z",
     "iopub.status.idle": "2024-02-01T22:52:30.447122Z",
     "shell.execute_reply": "2024-02-01T22:52:30.445899Z",
     "shell.execute_reply.started": "2024-02-01T22:52:30.426606Z"
    }
   },
   "outputs": [],
   "source": [
    "pipe_ridge = make_pipeline(StandardScaler(), Ridge(alpha=1.0))\n",
    "pipe_ridge.fit(X_train, y_train)\n",
    "coeffs = pipe_ridge.named_steps[\"ridge\"].coef_"
   ]
  },
  {
   "cell_type": "code",
   "execution_count": 21,
   "metadata": {
    "execution": {
     "iopub.execute_input": "2024-02-01T22:52:30.449473Z",
     "iopub.status.busy": "2024-02-01T22:52:30.448551Z",
     "iopub.status.idle": "2024-02-01T22:52:30.482765Z",
     "shell.execute_reply": "2024-02-01T22:52:30.480917Z",
     "shell.execute_reply.started": "2024-02-01T22:52:30.449436Z"
    },
    "slideshow": {
     "slide_type": "slide"
    }
   },
   "outputs": [
    {
     "data": {
      "text/html": [
       "<div>\n",
       "<style scoped>\n",
       "    .dataframe tbody tr th:only-of-type {\n",
       "        vertical-align: middle;\n",
       "    }\n",
       "\n",
       "    .dataframe tbody tr th {\n",
       "        vertical-align: top;\n",
       "    }\n",
       "\n",
       "    .dataframe thead th {\n",
       "        text-align: right;\n",
       "    }\n",
       "</style>\n",
       "<table border=\"1\" class=\"dataframe\">\n",
       "  <thead>\n",
       "    <tr style=\"text-align: right;\">\n",
       "      <th></th>\n",
       "      <th>Coefficients</th>\n",
       "    </tr>\n",
       "  </thead>\n",
       "  <tbody>\n",
       "    <tr>\n",
       "      <th>MedInc</th>\n",
       "      <td>0.827039</td>\n",
       "    </tr>\n",
       "    <tr>\n",
       "      <th>HouseAge</th>\n",
       "      <td>0.117058</td>\n",
       "    </tr>\n",
       "    <tr>\n",
       "      <th>AveRooms</th>\n",
       "      <td>-0.265273</td>\n",
       "    </tr>\n",
       "    <tr>\n",
       "      <th>AveBedrms</th>\n",
       "      <td>0.307521</td>\n",
       "    </tr>\n",
       "    <tr>\n",
       "      <th>Population</th>\n",
       "      <td>-0.003194</td>\n",
       "    </tr>\n",
       "    <tr>\n",
       "      <th>AveOccup</th>\n",
       "      <td>-0.039498</td>\n",
       "    </tr>\n",
       "    <tr>\n",
       "      <th>Latitude</th>\n",
       "      <td>-0.895963</td>\n",
       "    </tr>\n",
       "    <tr>\n",
       "      <th>Longitude</th>\n",
       "      <td>-0.866110</td>\n",
       "    </tr>\n",
       "  </tbody>\n",
       "</table>\n",
       "</div>"
      ],
      "text/plain": [
       "            Coefficients\n",
       "MedInc          0.827039\n",
       "HouseAge        0.117058\n",
       "AveRooms       -0.265273\n",
       "AveBedrms       0.307521\n",
       "Population     -0.003194\n",
       "AveOccup       -0.039498\n",
       "Latitude       -0.895963\n",
       "Longitude      -0.866110"
      ]
     },
     "execution_count": 21,
     "metadata": {},
     "output_type": "execute_result"
    }
   ],
   "source": [
    "pd.DataFrame(data=coeffs, index=california.feature_names, columns=[\"Coefficients\"])"
   ]
  },
  {
   "cell_type": "markdown",
   "metadata": {
    "slideshow": {
     "slide_type": "slide"
    }
   },
   "source": [
    "- The model also learns an intercept (bias). \n",
    "- For each prediction, we are adding this amount irrespective of the feature values.  "
   ]
  },
  {
   "cell_type": "code",
   "execution_count": 22,
   "metadata": {
    "execution": {
     "iopub.execute_input": "2024-02-01T22:52:30.486643Z",
     "iopub.status.busy": "2024-02-01T22:52:30.485079Z",
     "iopub.status.idle": "2024-02-01T22:52:30.518000Z",
     "shell.execute_reply": "2024-02-01T22:52:30.516536Z",
     "shell.execute_reply.started": "2024-02-01T22:52:30.486566Z"
    }
   },
   "outputs": [
    {
     "data": {
      "text/plain": [
       "2.0667579112160865"
      ]
     },
     "execution_count": 22,
     "metadata": {},
     "output_type": "execute_result"
    }
   ],
   "source": [
    "pipe_ridge.named_steps[\"ridge\"].intercept_"
   ]
  },
  {
   "cell_type": "markdown",
   "metadata": {},
   "source": [
    "Can we use this information to interpret model predictions? "
   ]
  },
  {
   "cell_type": "markdown",
   "metadata": {
    "slideshow": {
     "slide_type": "slide"
    }
   },
   "source": [
    "## ❓❓ Questions for you"
   ]
  },
  {
   "cell_type": "markdown",
   "metadata": {
    "slideshow": {
     "slide_type": "-"
    }
   },
   "source": [
    "### (iClicker) Exercise 7.1 \n",
    "\n",
    "**iClicker cloud join link: https://join.iclicker.com/FSLV**\n",
    "\n",
    "**Select all of the following statements which are TRUE.**\n",
    "\n",
    "- (A) Increasing the hyperparameter `alpha` of `Ridge` is likely to decrease model complexity.\n",
    "- (B) `Ridge` can be used with datasets that have multiple features.\n",
    "- (C) With Ridge, we learn one coefficient per training example.\n",
    "- (D) If you train a linear regression model on a 2-dimensional problem (2 features), the model will learn 3 parameters: one for each feature and one for the bias term. "
   ]
  },
  {
   "cell_type": "markdown",
   "metadata": {
    "slideshow": {
     "slide_type": "skip"
    }
   },
   "source": [
    "<br><br><br><br>"
   ]
  },
  {
   "cell_type": "markdown",
   "metadata": {
    "slideshow": {
     "slide_type": "slide"
    }
   },
   "source": [
    "## Interpretation of coefficients "
   ]
  },
  {
   "cell_type": "markdown",
   "metadata": {
    "slideshow": {
     "slide_type": "slide"
    }
   },
   "source": [
    "- One of the main advantages of linear models is that they are relatively **easy to interpret**. \n",
    "- We have **one coefficient per feature** which kind of describes the **role of the feature** in the prediction according to the model. "
   ]
  },
  {
   "cell_type": "markdown",
   "metadata": {},
   "source": [
    "There are two pieces of information in the coefficients based on\n",
    "\n",
    "- Sign\n",
    "- Magnitude"
   ]
  },
  {
   "cell_type": "markdown",
   "metadata": {
    "slideshow": {
     "slide_type": "slide"
    }
   },
   "source": [
    "### Sign of the coefficients\n",
    "\n",
    "In the example below, for instance: \n",
    "- `MedInc` (median income) has a **positive coefficient**\n",
    "    - the prediction will be _**proportional**_ to the feature value; as `MedInc` gets **bigger**, the median house value gets **bigger** \n",
    "- `AveRooms` (Average number of rooms) has a **negative coefficient**\n",
    "    - the prediction will be _**inversely proportional**_ to the feature value; as `AveRooms` gets **bigger**, the median house value gets **smaller**"
   ]
  },
  {
   "cell_type": "code",
   "execution_count": 23,
   "metadata": {
    "execution": {
     "iopub.execute_input": "2024-02-01T22:52:30.536922Z",
     "iopub.status.busy": "2024-02-01T22:52:30.536164Z",
     "iopub.status.idle": "2024-02-01T22:52:30.572412Z",
     "shell.execute_reply": "2024-02-01T22:52:30.571036Z",
     "shell.execute_reply.started": "2024-02-01T22:52:30.536882Z"
    },
    "slideshow": {
     "slide_type": "slide"
    }
   },
   "outputs": [
    {
     "data": {
      "text/html": [
       "<div>\n",
       "<style scoped>\n",
       "    .dataframe tbody tr th:only-of-type {\n",
       "        vertical-align: middle;\n",
       "    }\n",
       "\n",
       "    .dataframe tbody tr th {\n",
       "        vertical-align: top;\n",
       "    }\n",
       "\n",
       "    .dataframe thead th {\n",
       "        text-align: right;\n",
       "    }\n",
       "</style>\n",
       "<table border=\"1\" class=\"dataframe\">\n",
       "  <thead>\n",
       "    <tr style=\"text-align: right;\">\n",
       "      <th></th>\n",
       "      <th>Coefficients</th>\n",
       "    </tr>\n",
       "  </thead>\n",
       "  <tbody>\n",
       "    <tr>\n",
       "      <th>MedInc</th>\n",
       "      <td>0.827039</td>\n",
       "    </tr>\n",
       "    <tr>\n",
       "      <th>HouseAge</th>\n",
       "      <td>0.117058</td>\n",
       "    </tr>\n",
       "    <tr>\n",
       "      <th>AveRooms</th>\n",
       "      <td>-0.265273</td>\n",
       "    </tr>\n",
       "    <tr>\n",
       "      <th>AveBedrms</th>\n",
       "      <td>0.307521</td>\n",
       "    </tr>\n",
       "    <tr>\n",
       "      <th>Population</th>\n",
       "      <td>-0.003194</td>\n",
       "    </tr>\n",
       "    <tr>\n",
       "      <th>AveOccup</th>\n",
       "      <td>-0.039498</td>\n",
       "    </tr>\n",
       "    <tr>\n",
       "      <th>Latitude</th>\n",
       "      <td>-0.895963</td>\n",
       "    </tr>\n",
       "    <tr>\n",
       "      <th>Longitude</th>\n",
       "      <td>-0.866110</td>\n",
       "    </tr>\n",
       "  </tbody>\n",
       "</table>\n",
       "</div>"
      ],
      "text/plain": [
       "            Coefficients\n",
       "MedInc          0.827039\n",
       "HouseAge        0.117058\n",
       "AveRooms       -0.265273\n",
       "AveBedrms       0.307521\n",
       "Population     -0.003194\n",
       "AveOccup       -0.039498\n",
       "Latitude       -0.895963\n",
       "Longitude      -0.866110"
      ]
     },
     "execution_count": 23,
     "metadata": {},
     "output_type": "execute_result"
    }
   ],
   "source": [
    "pd.DataFrame(data=coeffs, index=california.feature_names, columns=[\"Coefficients\"])"
   ]
  },
  {
   "cell_type": "markdown",
   "metadata": {
    "slideshow": {
     "slide_type": "slide"
    }
   },
   "source": [
    "#### Magnitude of the coefficients\n",
    "\n",
    "- Bigger magnitude $\\rightarrow$ bigger impact on the prediction \n",
    "- In the example below, both `MedInc` and `AveBedrms` have a positive impact on the prediction but `MedInc` would have a **bigger positive impact** because it's feature value is going to be multiplied by a number with a **bigger magnitude**."
   ]
  },
  {
   "cell_type": "code",
   "execution_count": 24,
   "metadata": {
    "execution": {
     "iopub.execute_input": "2024-02-01T22:52:30.575003Z",
     "iopub.status.busy": "2024-02-01T22:52:30.574306Z",
     "iopub.status.idle": "2024-02-01T22:52:30.586403Z",
     "shell.execute_reply": "2024-02-01T22:52:30.585384Z",
     "shell.execute_reply.started": "2024-02-01T22:52:30.574956Z"
    },
    "slideshow": {
     "slide_type": "slide"
    }
   },
   "outputs": [
    {
     "data": {
      "text/html": [
       "<div>\n",
       "<style scoped>\n",
       "    .dataframe tbody tr th:only-of-type {\n",
       "        vertical-align: middle;\n",
       "    }\n",
       "\n",
       "    .dataframe tbody tr th {\n",
       "        vertical-align: top;\n",
       "    }\n",
       "\n",
       "    .dataframe thead th {\n",
       "        text-align: right;\n",
       "    }\n",
       "</style>\n",
       "<table border=\"1\" class=\"dataframe\">\n",
       "  <thead>\n",
       "    <tr style=\"text-align: right;\">\n",
       "      <th></th>\n",
       "      <th>coefficient</th>\n",
       "      <th>magnitude</th>\n",
       "    </tr>\n",
       "  </thead>\n",
       "  <tbody>\n",
       "    <tr>\n",
       "      <th>Latitude</th>\n",
       "      <td>-0.895963</td>\n",
       "      <td>0.895963</td>\n",
       "    </tr>\n",
       "    <tr>\n",
       "      <th>Longitude</th>\n",
       "      <td>-0.866110</td>\n",
       "      <td>0.866110</td>\n",
       "    </tr>\n",
       "    <tr>\n",
       "      <th>MedInc</th>\n",
       "      <td>0.827039</td>\n",
       "      <td>0.827039</td>\n",
       "    </tr>\n",
       "    <tr>\n",
       "      <th>AveBedrms</th>\n",
       "      <td>0.307521</td>\n",
       "      <td>0.307521</td>\n",
       "    </tr>\n",
       "    <tr>\n",
       "      <th>AveRooms</th>\n",
       "      <td>-0.265273</td>\n",
       "      <td>0.265273</td>\n",
       "    </tr>\n",
       "    <tr>\n",
       "      <th>HouseAge</th>\n",
       "      <td>0.117058</td>\n",
       "      <td>0.117058</td>\n",
       "    </tr>\n",
       "    <tr>\n",
       "      <th>AveOccup</th>\n",
       "      <td>-0.039498</td>\n",
       "      <td>0.039498</td>\n",
       "    </tr>\n",
       "    <tr>\n",
       "      <th>Population</th>\n",
       "      <td>-0.003194</td>\n",
       "      <td>0.003194</td>\n",
       "    </tr>\n",
       "  </tbody>\n",
       "</table>\n",
       "</div>"
      ],
      "text/plain": [
       "            coefficient  magnitude\n",
       "Latitude      -0.895963   0.895963\n",
       "Longitude     -0.866110   0.866110\n",
       "MedInc         0.827039   0.827039\n",
       "AveBedrms      0.307521   0.307521\n",
       "AveRooms      -0.265273   0.265273\n",
       "HouseAge       0.117058   0.117058\n",
       "AveOccup      -0.039498   0.039498\n",
       "Population    -0.003194   0.003194"
      ]
     },
     "execution_count": 24,
     "metadata": {},
     "output_type": "execute_result"
    }
   ],
   "source": [
    "data = {\n",
    "    \"coefficient\": pipe_ridge.named_steps[\"ridge\"].coef_.tolist(),\n",
    "    \"magnitude\": np.absolute(pipe_ridge.named_steps[\"ridge\"].coef_.tolist()),\n",
    "}\n",
    "coef_df = pd.DataFrame(data, index=california.feature_names).sort_values(\n",
    "    \"magnitude\", ascending=False\n",
    ")\n",
    "coef_df"
   ]
  },
  {
   "cell_type": "markdown",
   "metadata": {
    "slideshow": {
     "slide_type": "slide"
    }
   },
   "source": [
    "### Importance of scaling \n",
    "- When you are interpreting the model coefficients, scaling is crucial. \n",
    "- If you do not scale the data, features with smaller magnitude are going to get coefficients with bigger magnitude whereas features with bigger scale are going to get coefficients with smaller magnitude.\n",
    "- That said, when you scale the data, feature values become hard to interpret for humans!"
   ]
  },
  {
   "cell_type": "markdown",
   "metadata": {
    "slideshow": {
     "slide_type": "skip"
    }
   },
   "source": [
    "___\n",
    "Take these coefficients with a grain of salt. They might not always match your intuitions. Also, they do not tell us about how the world works. They only tell us about how the prediction of your model works. \n",
    "___"
   ]
  },
  {
   "cell_type": "markdown",
   "metadata": {},
   "source": [
    "<br><br>"
   ]
  },
  {
   "cell_type": "markdown",
   "metadata": {
    "slideshow": {
     "slide_type": "slide"
    }
   },
   "source": [
    "## ❓❓ Questions for you"
   ]
  },
  {
   "cell_type": "markdown",
   "metadata": {
    "slideshow": {
     "slide_type": "slide"
    }
   },
   "source": [
    "- Discuss the importance of scaling when interpreting linear regression coefficients. \n",
    "- What might be the meaning of complex vs simpler model in case of linear regression? "
   ]
  },
  {
   "cell_type": "markdown",
   "metadata": {},
   "source": [
    "<br><br><br><br>"
   ]
  },
  {
   "cell_type": "markdown",
   "metadata": {
    "slideshow": {
     "slide_type": "slide"
    }
   },
   "source": [
    "## Logistic regression [[video](https://youtu.be/56L5z_t22qE)]"
   ]
  },
  {
   "cell_type": "markdown",
   "metadata": {
    "slideshow": {
     "slide_type": "slide"
    },
    "tags": []
   },
   "source": [
    "### Logistic regression intuition \n",
    "\n",
    "- A linear model for **classification**. \n",
    "- Similar to linear regression, it learns weights associated with each feature and the bias. \n",
    "- It applies a **threshold** on the raw output to decide whether the class is positive or negative. \n",
    "- In this lecture we will focus on the following aspects of logistic regression.  \n",
    "    - `predict`, `predict_proba` \n",
    "    - how to use learned coefficients to interpret the model"
   ]
  },
  {
   "cell_type": "markdown",
   "metadata": {
    "slideshow": {
     "slide_type": "slide"
    }
   },
   "source": [
    "### Motivating example \n",
    "\n",
    "- Consider the problem of **predicting *sentiment*** expressed in **movie *reviews***."
   ]
  },
  {
   "cell_type": "markdown",
   "metadata": {
    "slideshow": {
     "slide_type": "slide"
    }
   },
   "source": [
    "#### Training data for the motivating example\n",
    "\n",
    "\n",
    "<blockquote> \n",
    "    <p>Review 1: This movie was <b>excellent</b>! The performances were oscar-worthy!  👍 </p> \n",
    "    <p>Review 2: What a <b>boring</b> movie! I almost fell asleep twice while watching it. 👎 </p> \n",
    "    <p>Review 3: I enjoyed the movie. <b>Excellent</b>! 👍 </p>             \n",
    "</blockquote>  \n",
    "\n",
    "- Targets: positive 👍 and negative 👎\n",
    "- Features: words (e.g., *excellent*, *flawless*, *boring*)\n"
   ]
  },
  {
   "cell_type": "markdown",
   "metadata": {
    "slideshow": {
     "slide_type": "slide"
    }
   },
   "source": [
    "#### Learned coefficients associated with all features\n",
    "\n",
    "- Suppose our vocabulary contains only the following 7 words. \n",
    "- A linear classifier learns **weights** or **coefficients** associated with the features (words in this example).  \n",
    "- Let's ignore bias for a bit. \n",
    "\n",
    "![](../img/words_coeff.png)\n",
    "\n",
    "<!-- <center>\n",
    "<img src='./img/words_coeff.png' width=\"250\" height=\"300\" />\n",
    "</center>  \n",
    " -->"
   ]
  },
  {
   "cell_type": "markdown",
   "metadata": {
    "slideshow": {
     "slide_type": "slide"
    }
   },
   "source": [
    "#### Predicting with learned weights \n",
    "- Use these learned coefficients to make predictions. For example, consider the following review $x_i$. \n",
    "<blockquote> \n",
    "It got a bit <b>boring</b> at times but the direction was <b>excellent</b> and the acting was <b>flawless</b>.\n",
    "</blockquote>\n",
    "- Feature vector for $x_i$: [1, 0, 1, 1, 0, 0, 0]"
   ]
  },
  {
   "cell_type": "markdown",
   "metadata": {
    "slideshow": {
     "slide_type": "slide"
    }
   },
   "source": [
    "![](../img/words_coeff.png)\n",
    "<!-- <center>\n",
    "<img src='./img/words_coeff.png' width=\"250\" height=\"300\" />\n",
    "</center>  \n",
    " -->\n",
    "- $score(x_i) = $ coefficient(*boring*) $\\times 1$ + coefficient(*excellent*) $\\times 1$ + coefficient(*flawless*) $\\times 1$ = $-1.40 + 1.93 + 1.43 = 1.96$\n",
    "\n",
    "- $1.96 > 0$ so predict the review as positive 👍. "
   ]
  },
  {
   "cell_type": "code",
   "execution_count": 25,
   "metadata": {
    "execution": {
     "iopub.execute_input": "2024-02-01T22:52:30.587833Z",
     "iopub.status.busy": "2024-02-01T22:52:30.587387Z",
     "iopub.status.idle": "2024-02-01T22:52:30.656584Z",
     "shell.execute_reply": "2024-02-01T22:52:30.654923Z",
     "shell.execute_reply.started": "2024-02-01T22:52:30.587790Z"
    },
    "slideshow": {
     "slide_type": "slide"
    }
   },
   "outputs": [
    {
     "name": "stdout",
     "output_type": "stream",
     "text": [
      "Weighted sum of the input features = 1.960 y_hat = pos\n"
     ]
    },
    {
     "data": {
      "image/svg+xml": [
       "<?xml version=\"1.0\" encoding=\"UTF-8\" standalone=\"no\"?>\n",
       "<!DOCTYPE svg PUBLIC \"-//W3C//DTD SVG 1.1//EN\"\n",
       " \"http://www.w3.org/Graphics/SVG/1.1/DTD/svg11.dtd\">\n",
       "<!-- Generated by graphviz version 9.0.0 (0)\n",
       " -->\n",
       "<!-- Pages: 1 -->\n",
       "<svg width=\"308pt\" height=\"403pt\"\n",
       " viewBox=\"0.00 0.00 308.48 403.00\" xmlns=\"http://www.w3.org/2000/svg\" xmlns:xlink=\"http://www.w3.org/1999/xlink\">\n",
       "<g id=\"graph0\" class=\"graph\" transform=\"scale(1 1) rotate(0) translate(4 399)\">\n",
       "<polygon fill=\"white\" stroke=\"none\" points=\"-4,4 -4,-399 304.48,-399 304.48,4 -4,4\"/>\n",
       "<g id=\"clust1\" class=\"cluster\">\n",
       "<title>cluster_0</title>\n",
       "<polygon fill=\"none\" stroke=\"white\" points=\"8,-8 8,-387 132.84,-387 132.84,-8 8,-8\"/>\n",
       "<text text-anchor=\"middle\" x=\"70.42\" y=\"-369.7\" font-family=\"Times,serif\" font-size=\"14.00\">inputs</text>\n",
       "</g>\n",
       "<g id=\"clust2\" class=\"cluster\">\n",
       "<title>cluster_2</title>\n",
       "<polygon fill=\"none\" stroke=\"white\" points=\"176.84,-133 176.84,-273 292.48,-273 292.48,-133 176.84,-133\"/>\n",
       "<text text-anchor=\"middle\" x=\"234.66\" y=\"-255.7\" font-family=\"Times,serif\" font-size=\"14.00\">output</text>\n",
       "</g>\n",
       "<!-- boring=1 -->\n",
       "<g id=\"node1\" class=\"node\">\n",
       "<title>boring=1</title>\n",
       "<ellipse fill=\"none\" stroke=\"black\" cx=\"70.42\" cy=\"-309\" rx=\"45.21\" ry=\"45.21\"/>\n",
       "<text text-anchor=\"middle\" x=\"70.42\" y=\"-303.95\" font-family=\"Times,serif\" font-size=\"14.00\">boring=1</text>\n",
       "</g>\n",
       "<!-- y_hat=pos -->\n",
       "<g id=\"node4\" class=\"node\">\n",
       "<title>y_hat=pos</title>\n",
       "<ellipse fill=\"none\" stroke=\"black\" cx=\"234.66\" cy=\"-191\" rx=\"49.82\" ry=\"49.82\"/>\n",
       "<text text-anchor=\"middle\" x=\"234.66\" y=\"-185.95\" font-family=\"Times,serif\" font-size=\"14.00\">y_hat=pos</text>\n",
       "</g>\n",
       "<!-- boring=1&#45;&gt;y_hat=pos -->\n",
       "<g id=\"edge1\" class=\"edge\">\n",
       "<title>boring=1&#45;&gt;y_hat=pos</title>\n",
       "<path fill=\"none\" stroke=\"black\" d=\"M107.43,-282.81C130.11,-266.32 159.69,-244.8 184.51,-226.75\"/>\n",
       "<polygon fill=\"black\" stroke=\"black\" points=\"186.52,-229.62 192.55,-220.9 182.4,-223.95 186.52,-229.62\"/>\n",
       "<text text-anchor=\"middle\" x=\"154.84\" y=\"-256.2\" font-family=\"Times,serif\" font-size=\"14.00\">&#45;1.4</text>\n",
       "</g>\n",
       "<!-- excellent=1 -->\n",
       "<g id=\"node2\" class=\"node\">\n",
       "<title>excellent=1</title>\n",
       "<ellipse fill=\"none\" stroke=\"black\" cx=\"70.42\" cy=\"-191\" rx=\"54.42\" ry=\"54.42\"/>\n",
       "<text text-anchor=\"middle\" x=\"70.42\" y=\"-185.95\" font-family=\"Times,serif\" font-size=\"14.00\">excellent=1</text>\n",
       "</g>\n",
       "<!-- excellent=1&#45;&gt;y_hat=pos -->\n",
       "<g id=\"edge2\" class=\"edge\">\n",
       "<title>excellent=1&#45;&gt;y_hat=pos</title>\n",
       "<path fill=\"none\" stroke=\"black\" d=\"M124.99,-191C140.44,-191 157.4,-191 173.24,-191\"/>\n",
       "<polygon fill=\"black\" stroke=\"black\" points=\"173.02,-194.5 183.02,-191 173.02,-187.5 173.02,-194.5\"/>\n",
       "<text text-anchor=\"middle\" x=\"154.84\" y=\"-194.2\" font-family=\"Times,serif\" font-size=\"14.00\">1.93</text>\n",
       "</g>\n",
       "<!-- flawless=1 -->\n",
       "<g id=\"node3\" class=\"node\">\n",
       "<title>flawless=1</title>\n",
       "<ellipse fill=\"none\" stroke=\"black\" cx=\"70.42\" cy=\"-67\" rx=\"51.35\" ry=\"51.35\"/>\n",
       "<text text-anchor=\"middle\" x=\"70.42\" y=\"-61.95\" font-family=\"Times,serif\" font-size=\"14.00\">flawless=1</text>\n",
       "</g>\n",
       "<!-- flawless=1&#45;&gt;y_hat=pos -->\n",
       "<g id=\"edge3\" class=\"edge\">\n",
       "<title>flawless=1&#45;&gt;y_hat=pos</title>\n",
       "<path fill=\"none\" stroke=\"black\" d=\"M111.94,-97.97C134.23,-115.01 162.03,-136.25 185.43,-154.14\"/>\n",
       "<polygon fill=\"black\" stroke=\"black\" points=\"183.22,-156.85 193.29,-160.15 187.47,-151.29 183.22,-156.85\"/>\n",
       "<text text-anchor=\"middle\" x=\"154.84\" y=\"-139.2\" font-family=\"Times,serif\" font-size=\"14.00\">1.43</text>\n",
       "</g>\n",
       "</g>\n",
       "</svg>\n"
      ],
      "text/plain": [
       "<graphviz.graphs.Digraph at 0x167275360>"
      ]
     },
     "metadata": {},
     "output_type": "display_data"
    }
   ],
   "source": [
    "x = [\"boring=1\", \"excellent=1\", \"flawless=1\"]\n",
    "w = [-1.40, 1.93, 1.43]\n",
    "display(plot_logistic_regression(x, w))"
   ]
  },
  {
   "cell_type": "markdown",
   "metadata": {
    "slideshow": {
     "slide_type": "slide"
    }
   },
   "source": [
    "- So the prediction is based on the weighted sum of the input features.\n",
    "- Some feature are pulling the prediction towards positive sentiment and some are pulling it towards negative sentiment. \n",
    "- If the coefficient of _boring_ had a bigger magnitude or _excellent_ and _flawless_ had smaller magnitudes, we would have predicted \"neg\".   "
   ]
  },
  {
   "cell_type": "code",
   "execution_count": 26,
   "metadata": {
    "execution": {
     "iopub.execute_input": "2024-02-01T22:52:30.658742Z",
     "iopub.status.busy": "2024-02-01T22:52:30.658188Z",
     "iopub.status.idle": "2024-02-01T22:52:30.669841Z",
     "shell.execute_reply": "2024-02-01T22:52:30.665118Z",
     "shell.execute_reply.started": "2024-02-01T22:52:30.658697Z"
    },
    "slideshow": {
     "slide_type": "skip"
    }
   },
   "outputs": [],
   "source": [
    "def f(w_0):\n",
    "    x = [\"boring=1\", \"excellent=1\", \"flawless=1\"]\n",
    "    w = [-1.40, 1.93, 1.43]\n",
    "    w[0] = w_0\n",
    "    print(w)\n",
    "    display(plot_logistic_regression(x, w))"
   ]
  },
  {
   "cell_type": "code",
   "execution_count": 27,
   "metadata": {
    "execution": {
     "iopub.execute_input": "2024-02-01T22:52:30.673819Z",
     "iopub.status.busy": "2024-02-01T22:52:30.672208Z",
     "iopub.status.idle": "2024-02-01T22:52:30.707452Z",
     "shell.execute_reply": "2024-02-01T22:52:30.705701Z",
     "shell.execute_reply.started": "2024-02-01T22:52:30.673754Z"
    },
    "tags": []
   },
   "outputs": [
    {
     "name": "stdout",
     "output_type": "stream",
     "text": [
      "[-3.5, 1.93, 1.43]\n",
      "Weighted sum of the input features = -0.140 y_hat = neg\n"
     ]
    },
    {
     "data": {
      "image/svg+xml": [
       "<?xml version=\"1.0\" encoding=\"UTF-8\" standalone=\"no\"?>\n",
       "<!DOCTYPE svg PUBLIC \"-//W3C//DTD SVG 1.1//EN\"\n",
       " \"http://www.w3.org/Graphics/SVG/1.1/DTD/svg11.dtd\">\n",
       "<!-- Generated by graphviz version 9.0.0 (0)\n",
       " -->\n",
       "<!-- Pages: 1 -->\n",
       "<svg width=\"310pt\" height=\"403pt\"\n",
       " viewBox=\"0.00 0.00 309.50 403.00\" xmlns=\"http://www.w3.org/2000/svg\" xmlns:xlink=\"http://www.w3.org/1999/xlink\">\n",
       "<g id=\"graph0\" class=\"graph\" transform=\"scale(1 1) rotate(0) translate(4 399)\">\n",
       "<polygon fill=\"white\" stroke=\"none\" points=\"-4,4 -4,-399 305.5,-399 305.5,4 -4,4\"/>\n",
       "<g id=\"clust1\" class=\"cluster\">\n",
       "<title>cluster_0</title>\n",
       "<polygon fill=\"none\" stroke=\"white\" points=\"8,-8 8,-387 132.84,-387 132.84,-8 8,-8\"/>\n",
       "<text text-anchor=\"middle\" x=\"70.42\" y=\"-369.7\" font-family=\"Times,serif\" font-size=\"14.00\">inputs</text>\n",
       "</g>\n",
       "<g id=\"clust2\" class=\"cluster\">\n",
       "<title>cluster_2</title>\n",
       "<polygon fill=\"none\" stroke=\"white\" points=\"176.84,-133 176.84,-274 293.5,-274 293.5,-133 176.84,-133\"/>\n",
       "<text text-anchor=\"middle\" x=\"235.17\" y=\"-256.7\" font-family=\"Times,serif\" font-size=\"14.00\">output</text>\n",
       "</g>\n",
       "<!-- boring=1 -->\n",
       "<g id=\"node1\" class=\"node\">\n",
       "<title>boring=1</title>\n",
       "<ellipse fill=\"none\" stroke=\"black\" cx=\"70.42\" cy=\"-309\" rx=\"45.21\" ry=\"45.21\"/>\n",
       "<text text-anchor=\"middle\" x=\"70.42\" y=\"-303.95\" font-family=\"Times,serif\" font-size=\"14.00\">boring=1</text>\n",
       "</g>\n",
       "<!-- y_hat=neg -->\n",
       "<g id=\"node4\" class=\"node\">\n",
       "<title>y_hat=neg</title>\n",
       "<ellipse fill=\"none\" stroke=\"black\" cx=\"235.17\" cy=\"-191\" rx=\"50.33\" ry=\"50.33\"/>\n",
       "<text text-anchor=\"middle\" x=\"235.17\" y=\"-185.95\" font-family=\"Times,serif\" font-size=\"14.00\">y_hat=neg</text>\n",
       "</g>\n",
       "<!-- boring=1&#45;&gt;y_hat=neg -->\n",
       "<g id=\"edge1\" class=\"edge\">\n",
       "<title>boring=1&#45;&gt;y_hat=neg</title>\n",
       "<path fill=\"none\" stroke=\"black\" d=\"M107.54,-282.81C130.21,-266.38 159.75,-244.96 184.6,-226.94\"/>\n",
       "<polygon fill=\"black\" stroke=\"black\" points=\"186.6,-229.81 192.64,-221.11 182.49,-224.15 186.6,-229.81\"/>\n",
       "<text text-anchor=\"middle\" x=\"154.84\" y=\"-260.2\" font-family=\"Times,serif\" font-size=\"14.00\">&#45;3.5</text>\n",
       "</g>\n",
       "<!-- excellent=1 -->\n",
       "<g id=\"node2\" class=\"node\">\n",
       "<title>excellent=1</title>\n",
       "<ellipse fill=\"none\" stroke=\"black\" cx=\"70.42\" cy=\"-191\" rx=\"54.42\" ry=\"54.42\"/>\n",
       "<text text-anchor=\"middle\" x=\"70.42\" y=\"-185.95\" font-family=\"Times,serif\" font-size=\"14.00\">excellent=1</text>\n",
       "</g>\n",
       "<!-- excellent=1&#45;&gt;y_hat=neg -->\n",
       "<g id=\"edge2\" class=\"edge\">\n",
       "<title>excellent=1&#45;&gt;y_hat=neg</title>\n",
       "<path fill=\"none\" stroke=\"black\" d=\"M125.16,-191C140.59,-191 157.51,-191 173.33,-191\"/>\n",
       "<polygon fill=\"black\" stroke=\"black\" points=\"173.1,-194.5 183.1,-191 173.1,-187.5 173.1,-194.5\"/>\n",
       "<text text-anchor=\"middle\" x=\"154.84\" y=\"-194.2\" font-family=\"Times,serif\" font-size=\"14.00\">1.93</text>\n",
       "</g>\n",
       "<!-- flawless=1 -->\n",
       "<g id=\"node3\" class=\"node\">\n",
       "<title>flawless=1</title>\n",
       "<ellipse fill=\"none\" stroke=\"black\" cx=\"70.42\" cy=\"-67\" rx=\"51.35\" ry=\"51.35\"/>\n",
       "<text text-anchor=\"middle\" x=\"70.42\" y=\"-61.95\" font-family=\"Times,serif\" font-size=\"14.00\">flawless=1</text>\n",
       "</g>\n",
       "<!-- flawless=1&#45;&gt;y_hat=neg -->\n",
       "<g id=\"edge3\" class=\"edge\">\n",
       "<title>flawless=1&#45;&gt;y_hat=neg</title>\n",
       "<path fill=\"none\" stroke=\"black\" d=\"M111.65,-97.65C133.92,-114.62 161.77,-135.84 185.29,-153.76\"/>\n",
       "<polygon fill=\"black\" stroke=\"black\" points=\"183.13,-156.51 193.2,-159.78 187.37,-150.94 183.13,-156.51\"/>\n",
       "<text text-anchor=\"middle\" x=\"154.84\" y=\"-139.2\" font-family=\"Times,serif\" font-size=\"14.00\">1.43</text>\n",
       "</g>\n",
       "</g>\n",
       "</svg>\n"
      ],
      "text/plain": [
       "<graphviz.graphs.Digraph at 0x16704d840>"
      ]
     },
     "metadata": {},
     "output_type": "display_data"
    }
   ],
   "source": [
    "f(w_0=-3.5) #w_0 is coefficient of \"boring\""
   ]
  },
  {
   "cell_type": "code",
   "execution_count": 28,
   "metadata": {
    "execution": {
     "iopub.execute_input": "2024-02-01T22:52:30.710540Z",
     "iopub.status.busy": "2024-02-01T22:52:30.709629Z",
     "iopub.status.idle": "2024-02-01T22:52:30.743258Z",
     "shell.execute_reply": "2024-02-01T22:52:30.741724Z",
     "shell.execute_reply.started": "2024-02-01T22:52:30.710459Z"
    },
    "tags": []
   },
   "outputs": [
    {
     "name": "stdout",
     "output_type": "stream",
     "text": [
      "[-3, 1.93, 1.43]\n",
      "Weighted sum of the input features = 0.360 y_hat = pos\n"
     ]
    },
    {
     "data": {
      "image/svg+xml": [
       "<?xml version=\"1.0\" encoding=\"UTF-8\" standalone=\"no\"?>\n",
       "<!DOCTYPE svg PUBLIC \"-//W3C//DTD SVG 1.1//EN\"\n",
       " \"http://www.w3.org/Graphics/SVG/1.1/DTD/svg11.dtd\">\n",
       "<!-- Generated by graphviz version 9.0.0 (0)\n",
       " -->\n",
       "<!-- Pages: 1 -->\n",
       "<svg width=\"308pt\" height=\"403pt\"\n",
       " viewBox=\"0.00 0.00 308.48 403.00\" xmlns=\"http://www.w3.org/2000/svg\" xmlns:xlink=\"http://www.w3.org/1999/xlink\">\n",
       "<g id=\"graph0\" class=\"graph\" transform=\"scale(1 1) rotate(0) translate(4 399)\">\n",
       "<polygon fill=\"white\" stroke=\"none\" points=\"-4,4 -4,-399 304.48,-399 304.48,4 -4,4\"/>\n",
       "<g id=\"clust1\" class=\"cluster\">\n",
       "<title>cluster_0</title>\n",
       "<polygon fill=\"none\" stroke=\"white\" points=\"8,-8 8,-387 132.84,-387 132.84,-8 8,-8\"/>\n",
       "<text text-anchor=\"middle\" x=\"70.42\" y=\"-369.7\" font-family=\"Times,serif\" font-size=\"14.00\">inputs</text>\n",
       "</g>\n",
       "<g id=\"clust2\" class=\"cluster\">\n",
       "<title>cluster_2</title>\n",
       "<polygon fill=\"none\" stroke=\"white\" points=\"176.84,-133 176.84,-273 292.48,-273 292.48,-133 176.84,-133\"/>\n",
       "<text text-anchor=\"middle\" x=\"234.66\" y=\"-255.7\" font-family=\"Times,serif\" font-size=\"14.00\">output</text>\n",
       "</g>\n",
       "<!-- boring=1 -->\n",
       "<g id=\"node1\" class=\"node\">\n",
       "<title>boring=1</title>\n",
       "<ellipse fill=\"none\" stroke=\"black\" cx=\"70.42\" cy=\"-309\" rx=\"45.21\" ry=\"45.21\"/>\n",
       "<text text-anchor=\"middle\" x=\"70.42\" y=\"-303.95\" font-family=\"Times,serif\" font-size=\"14.00\">boring=1</text>\n",
       "</g>\n",
       "<!-- y_hat=pos -->\n",
       "<g id=\"node4\" class=\"node\">\n",
       "<title>y_hat=pos</title>\n",
       "<ellipse fill=\"none\" stroke=\"black\" cx=\"234.66\" cy=\"-191\" rx=\"49.82\" ry=\"49.82\"/>\n",
       "<text text-anchor=\"middle\" x=\"234.66\" y=\"-185.95\" font-family=\"Times,serif\" font-size=\"14.00\">y_hat=pos</text>\n",
       "</g>\n",
       "<!-- boring=1&#45;&gt;y_hat=pos -->\n",
       "<g id=\"edge1\" class=\"edge\">\n",
       "<title>boring=1&#45;&gt;y_hat=pos</title>\n",
       "<path fill=\"none\" stroke=\"black\" d=\"M107.43,-282.81C130.11,-266.32 159.69,-244.8 184.51,-226.75\"/>\n",
       "<polygon fill=\"black\" stroke=\"black\" points=\"186.52,-229.62 192.55,-220.9 182.4,-223.95 186.52,-229.62\"/>\n",
       "<text text-anchor=\"middle\" x=\"154.84\" y=\"-256.2\" font-family=\"Times,serif\" font-size=\"14.00\">&#45;3</text>\n",
       "</g>\n",
       "<!-- excellent=1 -->\n",
       "<g id=\"node2\" class=\"node\">\n",
       "<title>excellent=1</title>\n",
       "<ellipse fill=\"none\" stroke=\"black\" cx=\"70.42\" cy=\"-191\" rx=\"54.42\" ry=\"54.42\"/>\n",
       "<text text-anchor=\"middle\" x=\"70.42\" y=\"-185.95\" font-family=\"Times,serif\" font-size=\"14.00\">excellent=1</text>\n",
       "</g>\n",
       "<!-- excellent=1&#45;&gt;y_hat=pos -->\n",
       "<g id=\"edge2\" class=\"edge\">\n",
       "<title>excellent=1&#45;&gt;y_hat=pos</title>\n",
       "<path fill=\"none\" stroke=\"black\" d=\"M124.99,-191C140.44,-191 157.4,-191 173.24,-191\"/>\n",
       "<polygon fill=\"black\" stroke=\"black\" points=\"173.02,-194.5 183.02,-191 173.02,-187.5 173.02,-194.5\"/>\n",
       "<text text-anchor=\"middle\" x=\"154.84\" y=\"-194.2\" font-family=\"Times,serif\" font-size=\"14.00\">1.93</text>\n",
       "</g>\n",
       "<!-- flawless=1 -->\n",
       "<g id=\"node3\" class=\"node\">\n",
       "<title>flawless=1</title>\n",
       "<ellipse fill=\"none\" stroke=\"black\" cx=\"70.42\" cy=\"-67\" rx=\"51.35\" ry=\"51.35\"/>\n",
       "<text text-anchor=\"middle\" x=\"70.42\" y=\"-61.95\" font-family=\"Times,serif\" font-size=\"14.00\">flawless=1</text>\n",
       "</g>\n",
       "<!-- flawless=1&#45;&gt;y_hat=pos -->\n",
       "<g id=\"edge3\" class=\"edge\">\n",
       "<title>flawless=1&#45;&gt;y_hat=pos</title>\n",
       "<path fill=\"none\" stroke=\"black\" d=\"M111.94,-97.97C134.23,-115.01 162.03,-136.25 185.43,-154.14\"/>\n",
       "<polygon fill=\"black\" stroke=\"black\" points=\"183.22,-156.85 193.29,-160.15 187.47,-151.29 183.22,-156.85\"/>\n",
       "<text text-anchor=\"middle\" x=\"154.84\" y=\"-139.2\" font-family=\"Times,serif\" font-size=\"14.00\">1.43</text>\n",
       "</g>\n",
       "</g>\n",
       "</svg>\n"
      ],
      "text/plain": [
       "<graphviz.graphs.Digraph at 0x1672776d0>"
      ]
     },
     "metadata": {},
     "output_type": "display_data"
    }
   ],
   "source": [
    "f(w_0=-3) #w_0 is coefficient of \"boring\""
   ]
  },
  {
   "cell_type": "code",
   "execution_count": 29,
   "metadata": {
    "execution": {
     "iopub.execute_input": "2024-02-01T22:52:30.745119Z",
     "iopub.status.busy": "2024-02-01T22:52:30.744749Z",
     "iopub.status.idle": "2024-02-01T22:52:30.800761Z",
     "shell.execute_reply": "2024-02-01T22:52:30.799470Z",
     "shell.execute_reply.started": "2024-02-01T22:52:30.745071Z"
    },
    "slideshow": {
     "slide_type": "skip"
    }
   },
   "outputs": [
    {
     "data": {
      "application/vnd.jupyter.widget-view+json": {
       "model_id": "3abcf4d82bb5496caa6df5cd82ae4f55",
       "version_major": 2,
       "version_minor": 0
      },
      "text/plain": [
       "interactive(children=(FloatSlider(value=-1.4, description='w_0', max=2.0, min=-6.0, step=0.5), Output()), _dom…"
      ]
     },
     "execution_count": 29,
     "metadata": {},
     "output_type": "execute_result"
    }
   ],
   "source": [
    "interactive(\n",
    "    f,\n",
    "    w_0=widgets.FloatSlider(min=-6, max=2, step=0.5, value=-1.40),\n",
    ")"
   ]
  },
  {
   "cell_type": "markdown",
   "metadata": {
    "slideshow": {
     "slide_type": "skip"
    }
   },
   "source": [
    "In our case, for values for the coefficient of _boring_ < -3.36, the prediction would be negative. \n",
    "\n",
    "A linear model learns these coefficients or weights from the training data! "
   ]
  },
  {
   "cell_type": "markdown",
   "metadata": {
    "slideshow": {
     "slide_type": "slide"
    }
   },
   "source": [
    "So a linear classifier is a linear function of the input `X`, followed by a threshold. \n",
    "\n",
    "\\begin{equation}\n",
    "\\begin{split}\n",
    "z =& w_1x_1 + \\dots + w_dx_d + b\\\\\n",
    "=& w^Tx + b\n",
    "\\end{split}\n",
    "\\end{equation}\n",
    "\n",
    "$$\\hat{y} = \\begin{cases}\n",
    "         1, & \\text{if } z \\geq r\\\\\n",
    "         -1, & \\text{if } z < r\n",
    "\\end{cases}$$"
   ]
  },
  {
   "cell_type": "markdown",
   "metadata": {
    "slideshow": {
     "slide_type": "slide"
    }
   },
   "source": [
    "#### Components of a linear classifier\n",
    "\n",
    "1. input features ($x_1, \\dots, x_d$)\n",
    "2. coefficients (weights) ($w_1, \\dots, w_d$)\n",
    "3. bias ($b$ or $w_0$) (can be used to offset your hyperplane)\n",
    "4. threshold ($r$)\n",
    "\n",
    "In our example before, we assumed $r=0$ and $b=0$."
   ]
  },
  {
   "cell_type": "markdown",
   "metadata": {
    "slideshow": {
     "slide_type": "slide"
    }
   },
   "source": [
    "### Logistic regression on the cities data"
   ]
  },
  {
   "cell_type": "code",
   "execution_count": 30,
   "metadata": {
    "execution": {
     "iopub.execute_input": "2024-02-01T22:52:30.802599Z",
     "iopub.status.busy": "2024-02-01T22:52:30.802074Z",
     "iopub.status.idle": "2024-02-01T22:52:30.830070Z",
     "shell.execute_reply": "2024-02-01T22:52:30.828768Z",
     "shell.execute_reply.started": "2024-02-01T22:52:30.802533Z"
    }
   },
   "outputs": [
    {
     "data": {
      "text/html": [
       "<div>\n",
       "<style scoped>\n",
       "    .dataframe tbody tr th:only-of-type {\n",
       "        vertical-align: middle;\n",
       "    }\n",
       "\n",
       "    .dataframe tbody tr th {\n",
       "        vertical-align: top;\n",
       "    }\n",
       "\n",
       "    .dataframe thead th {\n",
       "        text-align: right;\n",
       "    }\n",
       "</style>\n",
       "<table border=\"1\" class=\"dataframe\">\n",
       "  <thead>\n",
       "    <tr style=\"text-align: right;\">\n",
       "      <th></th>\n",
       "      <th>longitude</th>\n",
       "      <th>latitude</th>\n",
       "      <th>country</th>\n",
       "    </tr>\n",
       "  </thead>\n",
       "  <tbody>\n",
       "    <tr>\n",
       "      <th>160</th>\n",
       "      <td>-76.4813</td>\n",
       "      <td>44.2307</td>\n",
       "      <td>Canada</td>\n",
       "    </tr>\n",
       "    <tr>\n",
       "      <th>127</th>\n",
       "      <td>-81.2496</td>\n",
       "      <td>42.9837</td>\n",
       "      <td>Canada</td>\n",
       "    </tr>\n",
       "    <tr>\n",
       "      <th>169</th>\n",
       "      <td>-66.0580</td>\n",
       "      <td>45.2788</td>\n",
       "      <td>Canada</td>\n",
       "    </tr>\n",
       "    <tr>\n",
       "      <th>188</th>\n",
       "      <td>-73.2533</td>\n",
       "      <td>45.3057</td>\n",
       "      <td>Canada</td>\n",
       "    </tr>\n",
       "    <tr>\n",
       "      <th>187</th>\n",
       "      <td>-67.9245</td>\n",
       "      <td>47.1652</td>\n",
       "      <td>Canada</td>\n",
       "    </tr>\n",
       "  </tbody>\n",
       "</table>\n",
       "</div>"
      ],
      "text/plain": [
       "     longitude  latitude country\n",
       "160   -76.4813   44.2307  Canada\n",
       "127   -81.2496   42.9837  Canada\n",
       "169   -66.0580   45.2788  Canada\n",
       "188   -73.2533   45.3057  Canada\n",
       "187   -67.9245   47.1652  Canada"
      ]
     },
     "execution_count": 30,
     "metadata": {},
     "output_type": "execute_result"
    }
   ],
   "source": [
    "cities_df = pd.read_csv(\"../data/canada_usa_cities.csv\")\n",
    "train_df, test_df = train_test_split(cities_df, test_size=0.2, random_state=123)\n",
    "X_train, y_train = train_df.drop(columns=[\"country\"]).values, train_df[\"country\"].values\n",
    "X_test, y_test = test_df.drop(columns=[\"country\"]).values, test_df[\"country\"].values\n",
    "\n",
    "cols = train_df.drop(columns=[\"country\"]).columns\n",
    "train_df.head()"
   ]
  },
  {
   "cell_type": "markdown",
   "metadata": {
    "slideshow": {
     "slide_type": "slide"
    }
   },
   "source": [
    "Let's first try `DummyClassifier` on the cities data. "
   ]
  },
  {
   "cell_type": "code",
   "execution_count": 31,
   "metadata": {
    "execution": {
     "iopub.execute_input": "2024-02-01T22:52:30.832036Z",
     "iopub.status.busy": "2024-02-01T22:52:30.831557Z",
     "iopub.status.idle": "2024-02-01T22:52:30.865039Z",
     "shell.execute_reply": "2024-02-01T22:52:30.863968Z",
     "shell.execute_reply.started": "2024-02-01T22:52:30.832002Z"
    },
    "slideshow": {
     "slide_type": "-"
    },
    "tags": []
   },
   "outputs": [
    {
     "data": {
      "text/html": [
       "<div>\n",
       "<style scoped>\n",
       "    .dataframe tbody tr th:only-of-type {\n",
       "        vertical-align: middle;\n",
       "    }\n",
       "\n",
       "    .dataframe tbody tr th {\n",
       "        vertical-align: top;\n",
       "    }\n",
       "\n",
       "    .dataframe thead th {\n",
       "        text-align: right;\n",
       "    }\n",
       "</style>\n",
       "<table border=\"1\" class=\"dataframe\">\n",
       "  <thead>\n",
       "    <tr style=\"text-align: right;\">\n",
       "      <th></th>\n",
       "      <th>fit_time</th>\n",
       "      <th>score_time</th>\n",
       "      <th>test_score</th>\n",
       "      <th>train_score</th>\n",
       "    </tr>\n",
       "  </thead>\n",
       "  <tbody>\n",
       "    <tr>\n",
       "      <th>0</th>\n",
       "      <td>0.001140</td>\n",
       "      <td>0.001048</td>\n",
       "      <td>0.588235</td>\n",
       "      <td>0.601504</td>\n",
       "    </tr>\n",
       "    <tr>\n",
       "      <th>1</th>\n",
       "      <td>0.000771</td>\n",
       "      <td>0.001547</td>\n",
       "      <td>0.588235</td>\n",
       "      <td>0.601504</td>\n",
       "    </tr>\n",
       "    <tr>\n",
       "      <th>2</th>\n",
       "      <td>0.000420</td>\n",
       "      <td>0.000511</td>\n",
       "      <td>0.606061</td>\n",
       "      <td>0.597015</td>\n",
       "    </tr>\n",
       "    <tr>\n",
       "      <th>3</th>\n",
       "      <td>0.000244</td>\n",
       "      <td>0.000375</td>\n",
       "      <td>0.606061</td>\n",
       "      <td>0.597015</td>\n",
       "    </tr>\n",
       "    <tr>\n",
       "      <th>4</th>\n",
       "      <td>0.000208</td>\n",
       "      <td>0.000368</td>\n",
       "      <td>0.606061</td>\n",
       "      <td>0.597015</td>\n",
       "    </tr>\n",
       "  </tbody>\n",
       "</table>\n",
       "</div>"
      ],
      "text/plain": [
       "   fit_time  score_time  test_score  train_score\n",
       "0  0.001140    0.001048    0.588235     0.601504\n",
       "1  0.000771    0.001547    0.588235     0.601504\n",
       "2  0.000420    0.000511    0.606061     0.597015\n",
       "3  0.000244    0.000375    0.606061     0.597015\n",
       "4  0.000208    0.000368    0.606061     0.597015"
      ]
     },
     "execution_count": 31,
     "metadata": {},
     "output_type": "execute_result"
    }
   ],
   "source": [
    "dummy = DummyClassifier()\n",
    "scores = cross_validate(dummy, X_train, y_train, return_train_score=True)\n",
    "pd.DataFrame(scores)"
   ]
  },
  {
   "cell_type": "markdown",
   "metadata": {
    "slideshow": {
     "slide_type": "slide"
    }
   },
   "source": [
    "Now let's try `LogisticRegression`"
   ]
  },
  {
   "cell_type": "code",
   "execution_count": 32,
   "metadata": {
    "execution": {
     "iopub.execute_input": "2024-02-01T22:52:30.866906Z",
     "iopub.status.busy": "2024-02-01T22:52:30.866393Z",
     "iopub.status.idle": "2024-02-01T22:52:30.922735Z",
     "shell.execute_reply": "2024-02-01T22:52:30.921090Z",
     "shell.execute_reply.started": "2024-02-01T22:52:30.866866Z"
    },
    "slideshow": {
     "slide_type": "-"
    },
    "tags": []
   },
   "outputs": [
    {
     "data": {
      "text/html": [
       "<div>\n",
       "<style scoped>\n",
       "    .dataframe tbody tr th:only-of-type {\n",
       "        vertical-align: middle;\n",
       "    }\n",
       "\n",
       "    .dataframe tbody tr th {\n",
       "        vertical-align: top;\n",
       "    }\n",
       "\n",
       "    .dataframe thead th {\n",
       "        text-align: right;\n",
       "    }\n",
       "</style>\n",
       "<table border=\"1\" class=\"dataframe\">\n",
       "  <thead>\n",
       "    <tr style=\"text-align: right;\">\n",
       "      <th></th>\n",
       "      <th>fit_time</th>\n",
       "      <th>score_time</th>\n",
       "      <th>test_score</th>\n",
       "      <th>train_score</th>\n",
       "    </tr>\n",
       "  </thead>\n",
       "  <tbody>\n",
       "    <tr>\n",
       "      <th>0</th>\n",
       "      <td>0.007339</td>\n",
       "      <td>0.000682</td>\n",
       "      <td>0.852941</td>\n",
       "      <td>0.827068</td>\n",
       "    </tr>\n",
       "    <tr>\n",
       "      <th>1</th>\n",
       "      <td>0.004178</td>\n",
       "      <td>0.000693</td>\n",
       "      <td>0.823529</td>\n",
       "      <td>0.827068</td>\n",
       "    </tr>\n",
       "    <tr>\n",
       "      <th>2</th>\n",
       "      <td>0.004964</td>\n",
       "      <td>0.000804</td>\n",
       "      <td>0.696970</td>\n",
       "      <td>0.858209</td>\n",
       "    </tr>\n",
       "    <tr>\n",
       "      <th>3</th>\n",
       "      <td>0.003427</td>\n",
       "      <td>0.000533</td>\n",
       "      <td>0.787879</td>\n",
       "      <td>0.843284</td>\n",
       "    </tr>\n",
       "    <tr>\n",
       "      <th>4</th>\n",
       "      <td>0.005781</td>\n",
       "      <td>0.000714</td>\n",
       "      <td>0.939394</td>\n",
       "      <td>0.805970</td>\n",
       "    </tr>\n",
       "  </tbody>\n",
       "</table>\n",
       "</div>"
      ],
      "text/plain": [
       "   fit_time  score_time  test_score  train_score\n",
       "0  0.007339    0.000682    0.852941     0.827068\n",
       "1  0.004178    0.000693    0.823529     0.827068\n",
       "2  0.004964    0.000804    0.696970     0.858209\n",
       "3  0.003427    0.000533    0.787879     0.843284\n",
       "4  0.005781    0.000714    0.939394     0.805970"
      ]
     },
     "execution_count": 32,
     "metadata": {},
     "output_type": "execute_result"
    }
   ],
   "source": [
    "from sklearn.linear_model import LogisticRegression\n",
    "\n",
    "lr = LogisticRegression()\n",
    "scores = cross_validate(lr, X_train, y_train, return_train_score=True)\n",
    "pd.DataFrame(scores)"
   ]
  },
  {
   "cell_type": "markdown",
   "metadata": {},
   "source": [
    "Logistic regression seems to be doing better than dummy classifier. But note that there is a lot of variation in the scores. "
   ]
  },
  {
   "cell_type": "markdown",
   "metadata": {
    "slideshow": {
     "slide_type": "slide"
    }
   },
   "source": [
    "### Accessing learned parameters\n",
    "\n",
    "- Recall that logistic regression learns the weights $w$ and bias or intercept $b$.\n",
    "\n",
    "- How to access these weights? \n",
    "    - Similar to `Ridge`, we can access the weights and intercept using `coef_` and `intercept_` attribute of the `LogisticRegression` object, respectively. "
   ]
  },
  {
   "cell_type": "code",
   "execution_count": 33,
   "metadata": {
    "execution": {
     "iopub.execute_input": "2024-02-01T22:52:30.924730Z",
     "iopub.status.busy": "2024-02-01T22:52:30.924265Z",
     "iopub.status.idle": "2024-02-01T22:52:30.946701Z",
     "shell.execute_reply": "2024-02-01T22:52:30.945704Z",
     "shell.execute_reply.started": "2024-02-01T22:52:30.924688Z"
    },
    "slideshow": {
     "slide_type": "slide"
    }
   },
   "outputs": [
    {
     "name": "stdout",
     "output_type": "stream",
     "text": [
      "Model weights: [[-0.04108149 -0.33683126]]\n",
      "Model intercept: [10.8869838]\n"
     ]
    },
    {
     "data": {
      "text/html": [
       "<div>\n",
       "<style scoped>\n",
       "    .dataframe tbody tr th:only-of-type {\n",
       "        vertical-align: middle;\n",
       "    }\n",
       "\n",
       "    .dataframe tbody tr th {\n",
       "        vertical-align: top;\n",
       "    }\n",
       "\n",
       "    .dataframe thead th {\n",
       "        text-align: right;\n",
       "    }\n",
       "</style>\n",
       "<table border=\"1\" class=\"dataframe\">\n",
       "  <thead>\n",
       "    <tr style=\"text-align: right;\">\n",
       "      <th></th>\n",
       "      <th>features</th>\n",
       "      <th>coefficients</th>\n",
       "    </tr>\n",
       "  </thead>\n",
       "  <tbody>\n",
       "    <tr>\n",
       "      <th>0</th>\n",
       "      <td>longitude</td>\n",
       "      <td>-0.041081</td>\n",
       "    </tr>\n",
       "    <tr>\n",
       "      <th>1</th>\n",
       "      <td>latitude</td>\n",
       "      <td>-0.336831</td>\n",
       "    </tr>\n",
       "  </tbody>\n",
       "</table>\n",
       "</div>"
      ],
      "text/plain": [
       "    features  coefficients\n",
       "0  longitude     -0.041081\n",
       "1   latitude     -0.336831"
      ]
     },
     "execution_count": 33,
     "metadata": {},
     "output_type": "execute_result"
    }
   ],
   "source": [
    "lr = LogisticRegression()\n",
    "lr.fit(X_train, y_train)\n",
    "print(\"Model weights: %s\" % (lr.coef_))  # these are the learned weights\n",
    "print(\"Model intercept: %s\" % (lr.intercept_))  # this is the bias term\n",
    "data = {\"features\": cols, \"coefficients\": lr.coef_[0]}\n",
    "pd.DataFrame(data)"
   ]
  },
  {
   "cell_type": "markdown",
   "metadata": {},
   "source": [
    "- Both negative weights \n",
    "- The weight of latitude is larger in magnitude. \n",
    "- This makes sense because Canada as a country lies above the USA and so we expect latitude values to contribute more to a prediction than longitude. "
   ]
  },
  {
   "cell_type": "markdown",
   "metadata": {
    "slideshow": {
     "slide_type": "slide"
    }
   },
   "source": [
    "### Prediction with learned parameters\n",
    "\n",
    "Let's predict target of a test example. "
   ]
  },
  {
   "cell_type": "code",
   "execution_count": 34,
   "metadata": {
    "execution": {
     "iopub.execute_input": "2024-02-01T22:52:30.949240Z",
     "iopub.status.busy": "2024-02-01T22:52:30.948332Z",
     "iopub.status.idle": "2024-02-01T22:52:30.958525Z",
     "shell.execute_reply": "2024-02-01T22:52:30.956651Z",
     "shell.execute_reply.started": "2024-02-01T22:52:30.949199Z"
    },
    "slideshow": {
     "slide_type": "-"
    }
   },
   "outputs": [
    {
     "data": {
      "text/plain": [
       "array([-0.04108149, -0.33683126])"
      ]
     },
     "execution_count": 34,
     "metadata": {},
     "output_type": "execute_result"
    }
   ],
   "source": [
    "example = X_test[0, :]\n",
    "example\n",
    "lr.coef_.reshape(\n",
    "            2,\n",
    "        )"
   ]
  },
  {
   "cell_type": "markdown",
   "metadata": {
    "slideshow": {
     "slide_type": "slide"
    }
   },
   "source": [
    "#### Raw scores\n",
    "\n",
    "- Calculate the raw score as: ```y_hat = np.dot(w, x) + b```"
   ]
  },
  {
   "cell_type": "code",
   "execution_count": 35,
   "metadata": {
    "execution": {
     "iopub.execute_input": "2024-02-01T22:52:30.961403Z",
     "iopub.status.busy": "2024-02-01T22:52:30.960620Z",
     "iopub.status.idle": "2024-02-01T22:52:30.971910Z",
     "shell.execute_reply": "2024-02-01T22:52:30.969688Z",
     "shell.execute_reply.started": "2024-02-01T22:52:30.961370Z"
    },
    "slideshow": {
     "slide_type": "-"
    }
   },
   "outputs": [
    {
     "data": {
      "text/plain": [
       "array([-1.97817876])"
      ]
     },
     "execution_count": 35,
     "metadata": {},
     "output_type": "execute_result"
    }
   ],
   "source": [
    "(\n",
    "    np.dot(\n",
    "        example,\n",
    "        lr.coef_.reshape(\n",
    "            2,\n",
    "        ),\n",
    "    )\n",
    "    + lr.intercept_\n",
    ")"
   ]
  },
  {
   "cell_type": "markdown",
   "metadata": {
    "slideshow": {
     "slide_type": "slide"
    }
   },
   "source": [
    "- Apply the threshold to the raw score. \n",
    "- Since the prediction is < 0, predict \"negative\". \n",
    "- What is a \"negative\" class in our context? \n",
    "- With logistic regression, the model randomly assigns one of the classes as a positive class and the other as negative. \n",
    "    - Usually it would **alphabetically order the target and pick the first one as negative and second one as the positive class.**"
   ]
  },
  {
   "cell_type": "markdown",
   "metadata": {
    "slideshow": {
     "slide_type": "slide"
    }
   },
   "source": [
    "- The `classes_` attribute tells us which class is considered negative and which one is considered positive. - In this case, Canada is the negative class and USA is a positive class. "
   ]
  },
  {
   "cell_type": "code",
   "execution_count": 36,
   "metadata": {
    "execution": {
     "iopub.execute_input": "2024-02-01T22:52:30.977022Z",
     "iopub.status.busy": "2024-02-01T22:52:30.976005Z",
     "iopub.status.idle": "2024-02-01T22:52:30.985001Z",
     "shell.execute_reply": "2024-02-01T22:52:30.983665Z",
     "shell.execute_reply.started": "2024-02-01T22:52:30.976963Z"
    }
   },
   "outputs": [
    {
     "data": {
      "text/plain": [
       "array(['Canada', 'USA'], dtype=object)"
      ]
     },
     "execution_count": 36,
     "metadata": {},
     "output_type": "execute_result"
    }
   ],
   "source": [
    "lr.classes_"
   ]
  },
  {
   "cell_type": "markdown",
   "metadata": {
    "slideshow": {
     "slide_type": "slide"
    }
   },
   "source": [
    "- So based on the negative score above (-1.978), we would predict Canada. \n",
    "- Let's check the prediction given by the model. "
   ]
  },
  {
   "cell_type": "code",
   "execution_count": 37,
   "metadata": {
    "execution": {
     "iopub.execute_input": "2024-02-01T22:52:30.986907Z",
     "iopub.status.busy": "2024-02-01T22:52:30.986277Z",
     "iopub.status.idle": "2024-02-01T22:52:30.996039Z",
     "shell.execute_reply": "2024-02-01T22:52:30.994919Z",
     "shell.execute_reply.started": "2024-02-01T22:52:30.986875Z"
    }
   },
   "outputs": [
    {
     "data": {
      "text/plain": [
       "array(['Canada'], dtype=object)"
      ]
     },
     "execution_count": 37,
     "metadata": {},
     "output_type": "execute_result"
    }
   ],
   "source": [
    "lr.predict([example])"
   ]
  },
  {
   "cell_type": "markdown",
   "metadata": {},
   "source": [
    "Great! The predictions match! We exactly know how the model is making predictions. "
   ]
  },
  {
   "cell_type": "markdown",
   "metadata": {
    "slideshow": {
     "slide_type": "slide"
    }
   },
   "source": [
    "### Decision boundary of logistic regression\n",
    "\n",
    "- The decision boundary of logistic regression is a **hyperplane** dividing the feature space in half. "
   ]
  },
  {
   "cell_type": "code",
   "execution_count": 38,
   "metadata": {
    "execution": {
     "iopub.execute_input": "2024-02-01T22:52:30.998010Z",
     "iopub.status.busy": "2024-02-01T22:52:30.997417Z",
     "iopub.status.idle": "2024-02-01T22:52:31.328639Z",
     "shell.execute_reply": "2024-02-01T22:52:31.325064Z",
     "shell.execute_reply.started": "2024-02-01T22:52:30.997975Z"
    },
    "slideshow": {
     "slide_type": "slide"
    }
   },
   "outputs": [
    {
     "data": {
      "image/png": "[encoded data removed]",
      "text/plain": [
       "<Figure size 640x480 with 1 Axes>"
      ]
     },
     "metadata": {},
     "output_type": "display_data"
    }
   ],
   "source": [
    "lr = LogisticRegression()\n",
    "lr.fit(X_train, y_train)\n",
    "discrete_scatter(X_train[:, 0], X_train[:, 1], y_train)\n",
    "plot_2d_separator(lr, X_train, fill=False, eps=0.5, alpha=0.7)\n",
    "plt.title(lr.__class__.__name__)\n",
    "plt.xlabel(\"longitude\")\n",
    "plt.ylabel(\"latitude\");"
   ]
  },
  {
   "cell_type": "markdown",
   "metadata": {
    "slideshow": {
     "slide_type": "slide"
    }
   },
   "source": [
    "- For $d=2$, the decision boundary is a line (1-dimensional)\n",
    "- For $d=3$, the decision boundary is a plane (2-dimensional)\n",
    "- For $d\\gt 3$, the decision boundary is a $d-1$-dimensional hyperplane"
   ]
  },
  {
   "cell_type": "code",
   "execution_count": 39,
   "metadata": {
    "execution": {
     "iopub.execute_input": "2024-02-01T22:52:31.330978Z",
     "iopub.status.busy": "2024-02-01T22:52:31.330436Z",
     "iopub.status.idle": "2024-02-01T22:52:36.373550Z",
     "shell.execute_reply": "2024-02-01T22:52:36.372299Z",
     "shell.execute_reply.started": "2024-02-01T22:52:31.330930Z"
    },
    "slideshow": {
     "slide_type": "slide"
    }
   },
   "outputs": [
    {
     "data": {
      "image/png": "[encoded data removed]",
      "text/plain": [
       "<Figure size 2000x500 with 3 Axes>"
      ]
     },
     "metadata": {},
     "output_type": "display_data"
    }
   ],
   "source": [
    "fig, axes = plt.subplots(1, 3, figsize=(20, 5))\n",
    "for model, ax in zip(\n",
    "    [KNeighborsClassifier(), SVC(gamma=0.01), LogisticRegression()], axes\n",
    "):\n",
    "    clf = model.fit(X_train, y_train)\n",
    "    plot_2d_separator(\n",
    "        clf, X_train, fill=True, eps=0.5, ax=ax, alpha=0.4\n",
    "    )\n",
    "    discrete_scatter(X_train[:, 0], X_train[:, 1], y_train, ax=ax)\n",
    "    ax.set_title(clf.__class__.__name__)\n",
    "    ax.set_xlabel(\"longitude\")\n",
    "    ax.set_ylabel(\"latitude\")\n",
    "axes[0].legend();"
   ]
  },
  {
   "cell_type": "markdown",
   "metadata": {
    "slideshow": {
     "slide_type": "slide"
    }
   },
   "source": [
    "- Notice a linear decision boundary (a line in our case). \n",
    "- Compare it with  KNN or SVM RBF decision boundaries. "
   ]
  },
  {
   "cell_type": "markdown",
   "metadata": {
    "slideshow": {
     "slide_type": "slide"
    }
   },
   "source": [
    "### Main hyperparameter of logistic regression \n",
    "\n",
    "- `C` is the main hyperparameter which controls the fundamental trade-off.\n",
    "- We won't really talk about the interpretation of this hyperparameter right now. \n",
    "- At a high level, the interpretation is similar to `C` of SVM RBF\n",
    "    - smaller `C` $\\rightarrow$ might lead to underfitting\n",
    "    - bigger `C` $\\rightarrow$ might lead to overfitting"
   ]
  },
  {
   "cell_type": "code",
   "execution_count": 40,
   "metadata": {
    "execution": {
     "iopub.execute_input": "2024-02-01T22:52:36.375387Z",
     "iopub.status.busy": "2024-02-01T22:52:36.375104Z",
     "iopub.status.idle": "2024-02-01T22:52:36.643642Z",
     "shell.execute_reply": "2024-02-01T22:52:36.642072Z",
     "shell.execute_reply.started": "2024-02-01T22:52:36.375365Z"
    },
    "slideshow": {
     "slide_type": "slide"
    },
    "tags": []
   },
   "outputs": [
    {
     "data": {
      "text/html": [
       "<div>\n",
       "<style scoped>\n",
       "    .dataframe tbody tr th:only-of-type {\n",
       "        vertical-align: middle;\n",
       "    }\n",
       "\n",
       "    .dataframe tbody tr th {\n",
       "        vertical-align: top;\n",
       "    }\n",
       "\n",
       "    .dataframe thead th {\n",
       "        text-align: right;\n",
       "    }\n",
       "</style>\n",
       "<table border=\"1\" class=\"dataframe\">\n",
       "  <thead>\n",
       "    <tr style=\"text-align: right;\">\n",
       "      <th></th>\n",
       "      <th>C</th>\n",
       "      <th>mean_train_scores</th>\n",
       "      <th>mean_cv_scores</th>\n",
       "    </tr>\n",
       "  </thead>\n",
       "  <tbody>\n",
       "    <tr>\n",
       "      <th>0</th>\n",
       "      <td>0.0001</td>\n",
       "      <td>0.664707</td>\n",
       "      <td>0.658645</td>\n",
       "    </tr>\n",
       "    <tr>\n",
       "      <th>1</th>\n",
       "      <td>0.0010</td>\n",
       "      <td>0.784424</td>\n",
       "      <td>0.790731</td>\n",
       "    </tr>\n",
       "    <tr>\n",
       "      <th>2</th>\n",
       "      <td>0.0100</td>\n",
       "      <td>0.827842</td>\n",
       "      <td>0.826203</td>\n",
       "    </tr>\n",
       "    <tr>\n",
       "      <th>3</th>\n",
       "      <td>0.1000</td>\n",
       "      <td>0.832320</td>\n",
       "      <td>0.820143</td>\n",
       "    </tr>\n",
       "    <tr>\n",
       "      <th>4</th>\n",
       "      <td>1.0000</td>\n",
       "      <td>0.832320</td>\n",
       "      <td>0.820143</td>\n",
       "    </tr>\n",
       "    <tr>\n",
       "      <th>5</th>\n",
       "      <td>10.0000</td>\n",
       "      <td>0.832320</td>\n",
       "      <td>0.820143</td>\n",
       "    </tr>\n",
       "    <tr>\n",
       "      <th>6</th>\n",
       "      <td>100.0000</td>\n",
       "      <td>0.832320</td>\n",
       "      <td>0.820143</td>\n",
       "    </tr>\n",
       "    <tr>\n",
       "      <th>7</th>\n",
       "      <td>1000.0000</td>\n",
       "      <td>0.832320</td>\n",
       "      <td>0.820143</td>\n",
       "    </tr>\n",
       "    <tr>\n",
       "      <th>8</th>\n",
       "      <td>10000.0000</td>\n",
       "      <td>0.832320</td>\n",
       "      <td>0.820143</td>\n",
       "    </tr>\n",
       "    <tr>\n",
       "      <th>9</th>\n",
       "      <td>100000.0000</td>\n",
       "      <td>0.832320</td>\n",
       "      <td>0.820143</td>\n",
       "    </tr>\n",
       "  </tbody>\n",
       "</table>\n",
       "</div>"
      ],
      "text/plain": [
       "             C  mean_train_scores  mean_cv_scores\n",
       "0       0.0001           0.664707        0.658645\n",
       "1       0.0010           0.784424        0.790731\n",
       "2       0.0100           0.827842        0.826203\n",
       "3       0.1000           0.832320        0.820143\n",
       "4       1.0000           0.832320        0.820143\n",
       "5      10.0000           0.832320        0.820143\n",
       "6     100.0000           0.832320        0.820143\n",
       "7    1000.0000           0.832320        0.820143\n",
       "8   10000.0000           0.832320        0.820143\n",
       "9  100000.0000           0.832320        0.820143"
      ]
     },
     "execution_count": 40,
     "metadata": {},
     "output_type": "execute_result"
    }
   ],
   "source": [
    "scores_dict = {\n",
    "    \"C\": 10.0 ** np.arange(-4, 6, 1),\n",
    "    \"mean_train_scores\": list(),\n",
    "    \"mean_cv_scores\": list(),\n",
    "}\n",
    "for C in scores_dict[\"C\"]:\n",
    "    lr = LogisticRegression(C=C)\n",
    "    scores = cross_validate(lr, X_train, y_train, return_train_score=True)\n",
    "    scores_dict[\"mean_train_scores\"].append(scores[\"train_score\"].mean())\n",
    "    scores_dict[\"mean_cv_scores\"].append(scores[\"test_score\"].mean())\n",
    "\n",
    "results_df = pd.DataFrame(scores_dict)\n",
    "results_df"
   ]
  },
  {
   "cell_type": "markdown",
   "metadata": {},
   "source": [
    "<br><br><br><br>"
   ]
  },
  {
   "cell_type": "markdown",
   "metadata": {
    "slideshow": {
     "slide_type": "slide"
    }
   },
   "source": [
    "## Predicting probability scores [[video](https://youtu.be/_OAK5KiGLg0)]"
   ]
  },
  {
   "cell_type": "markdown",
   "metadata": {
    "slideshow": {
     "slide_type": "slide"
    }
   },
   "source": [
    "### `predict_proba`\n",
    "\n",
    "- So far in the context of classification problems, we focused on getting \"hard\" predictions. \n",
    "- Very often it's useful to know \"soft\" predictions, i.e., how confident the model is with a given prediction.  \n",
    "- For most of the `scikit-learn` classification models we can access this confidence score or probability score using a method called `predict_proba`.  "
   ]
  },
  {
   "cell_type": "markdown",
   "metadata": {
    "slideshow": {
     "slide_type": "slide"
    }
   },
   "source": [
    "Let's look at probability scores of logistic regression model for our test example. "
   ]
  },
  {
   "cell_type": "code",
   "execution_count": 41,
   "metadata": {
    "execution": {
     "iopub.execute_input": "2024-02-01T22:52:36.647232Z",
     "iopub.status.busy": "2024-02-01T22:52:36.645002Z",
     "iopub.status.idle": "2024-02-01T22:52:36.655231Z",
     "shell.execute_reply": "2024-02-01T22:52:36.653850Z",
     "shell.execute_reply.started": "2024-02-01T22:52:36.647155Z"
    }
   },
   "outputs": [
    {
     "data": {
      "text/plain": [
       "array([-64.8001,  46.098 ])"
      ]
     },
     "execution_count": 41,
     "metadata": {},
     "output_type": "execute_result"
    }
   ],
   "source": [
    "example"
   ]
  },
  {
   "cell_type": "code",
   "execution_count": 42,
   "metadata": {
    "execution": {
     "iopub.execute_input": "2024-02-01T22:52:36.657211Z",
     "iopub.status.busy": "2024-02-01T22:52:36.656775Z",
     "iopub.status.idle": "2024-02-01T22:52:36.673058Z",
     "shell.execute_reply": "2024-02-01T22:52:36.671845Z",
     "shell.execute_reply.started": "2024-02-01T22:52:36.657188Z"
    }
   },
   "outputs": [
    {
     "data": {
      "text/plain": [
       "array(['Canada'], dtype=object)"
      ]
     },
     "execution_count": 42,
     "metadata": {},
     "output_type": "execute_result"
    }
   ],
   "source": [
    "lr = LogisticRegression(random_state=123)\n",
    "lr.fit(X_train, y_train)\n",
    "lr.predict([example])  # hard prediction"
   ]
  },
  {
   "cell_type": "code",
   "execution_count": 43,
   "metadata": {
    "execution": {
     "iopub.execute_input": "2024-02-01T22:52:36.674224Z",
     "iopub.status.busy": "2024-02-01T22:52:36.673958Z",
     "iopub.status.idle": "2024-02-01T22:52:36.681464Z",
     "shell.execute_reply": "2024-02-01T22:52:36.680464Z",
     "shell.execute_reply.started": "2024-02-01T22:52:36.674205Z"
    }
   },
   "outputs": [
    {
     "data": {
      "text/plain": [
       "array([[0.87848688, 0.12151312]])"
      ]
     },
     "execution_count": 43,
     "metadata": {},
     "output_type": "execute_result"
    }
   ],
   "source": [
    "lr.predict_proba([example])  # soft prediction"
   ]
  },
  {
   "cell_type": "markdown",
   "metadata": {
    "slideshow": {
     "slide_type": "slide"
    }
   },
   "source": [
    "- The output of `predict_proba` is the probability of each class. \n",
    "- In binary classification, we get probabilities associated with both classes (even though this information is redundant). \n",
    "- The first entry is the estimated probability of the first class and the second entry is the estimated probability of the second class from `model.classes_`. "
   ]
  },
  {
   "cell_type": "code",
   "execution_count": 44,
   "metadata": {
    "execution": {
     "iopub.execute_input": "2024-02-01T22:52:36.684381Z",
     "iopub.status.busy": "2024-02-01T22:52:36.682687Z",
     "iopub.status.idle": "2024-02-01T22:52:36.690604Z",
     "shell.execute_reply": "2024-02-01T22:52:36.689591Z",
     "shell.execute_reply.started": "2024-02-01T22:52:36.684354Z"
    }
   },
   "outputs": [
    {
     "data": {
      "text/plain": [
       "array(['Canada', 'USA'], dtype=object)"
      ]
     },
     "execution_count": 44,
     "metadata": {},
     "output_type": "execute_result"
    }
   ],
   "source": [
    "lr.classes_"
   ]
  },
  {
   "cell_type": "markdown",
   "metadata": {
    "slideshow": {
     "slide_type": "slide"
    }
   },
   "source": [
    "- Because it's a probability, the sum of the entries for both classes should always sum to 1. \n",
    "- Since the probabilities for the two classes sum to 1, exactly one of the classes will have a score >=0.5, which is going to be our predicted class.  "
   ]
  },
  {
   "cell_type": "markdown",
   "metadata": {
    "slideshow": {
     "slide_type": "slide"
    }
   },
   "source": [
    "#### How does logistic regression calculate these probabilities? \n",
    "\n",
    "- The weighted sum $w_1x_1 + \\dots + w_dx_d + b$ gives us \"raw model output\".\n",
    "- For linear regression this would have been the prediction.\n",
    "- For logistic regression, you check the **sign** of this value.\n",
    "  - If positive (or 0), predict $+1$; if negative, predict $-1$.\n",
    "  - These are \"hard predictions\"."
   ]
  },
  {
   "cell_type": "markdown",
   "metadata": {
    "slideshow": {
     "slide_type": "slide"
    }
   },
   "source": [
    "- You can also have \"soft predictions\", aka **predicted probabilities**. \n",
    "  - To convert the raw model output into probabilities, instead of taking the sign, we apply the **sigmoid**."
   ]
  },
  {
   "cell_type": "markdown",
   "metadata": {
    "slideshow": {
     "slide_type": "slide"
    }
   },
   "source": [
    "#### The sigmoid function \n",
    "- The sigmoid function \"squashes\" the raw model output from any number to the range $[0,1]$ using the following formula, where $x$ is the raw model output. \n",
    "$$\\frac{1}{1+e^{-x}}$$\n",
    "- Then we can interpret the output as probabilities."
   ]
  },
  {
   "cell_type": "code",
   "execution_count": 45,
   "metadata": {
    "execution": {
     "iopub.execute_input": "2024-02-01T22:52:36.691945Z",
     "iopub.status.busy": "2024-02-01T22:52:36.691699Z",
     "iopub.status.idle": "2024-02-01T22:52:36.930067Z",
     "shell.execute_reply": "2024-02-01T22:52:36.928734Z",
     "shell.execute_reply.started": "2024-02-01T22:52:36.691927Z"
    },
    "slideshow": {
     "slide_type": "slide"
    }
   },
   "outputs": [
    {
     "data": {
      "image/png": "[encoded data removed]",
      "text/plain": [
       "<Figure size 640x480 with 1 Axes>"
      ]
     },
     "metadata": {},
     "output_type": "display_data"
    }
   ],
   "source": [
    "sigmoid = lambda x: 1 / (1 + np.exp(-x))\n",
    "raw_model_output = np.linspace(-8, 8, 1000)\n",
    "plt.plot(raw_model_output, sigmoid(raw_model_output))\n",
    "plt.plot([0, 0], [0, 0.5], \"--k\")\n",
    "plt.plot([-8, 0], [0.5, 0.5], \"--k\")\n",
    "plt.xlabel(\"raw model output, $w^Tx$\")\n",
    "plt.ylabel(\"predicted probability\")\n",
    "plt.title(\"the sigmoid function\");"
   ]
  },
  {
   "cell_type": "markdown",
   "metadata": {
    "slideshow": {
     "slide_type": "slide"
    }
   },
   "source": [
    "- Recall our hard predictions that check the sign of $w^Tx$, or, in other words, whether or not it is $\\geq 0$.\n",
    "  - The threshold $w^Tx=0$ corresponds to $p=0.5$. \n",
    "  - In other words, if our predicted probability is $\\geq 0.5$ then our hard prediction is $+1$."
   ]
  },
  {
   "cell_type": "markdown",
   "metadata": {
    "slideshow": {
     "slide_type": "slide"
    }
   },
   "source": [
    "Let's get the probability score by calling sigmoid on the raw model output for our test example."
   ]
  },
  {
   "cell_type": "code",
   "execution_count": 46,
   "metadata": {
    "execution": {
     "iopub.execute_input": "2024-02-01T22:52:36.932574Z",
     "iopub.status.busy": "2024-02-01T22:52:36.931850Z",
     "iopub.status.idle": "2024-02-01T22:52:36.940174Z",
     "shell.execute_reply": "2024-02-01T22:52:36.939019Z",
     "shell.execute_reply.started": "2024-02-01T22:52:36.932540Z"
    }
   },
   "outputs": [
    {
     "data": {
      "text/plain": [
       "array([0.12151312])"
      ]
     },
     "execution_count": 46,
     "metadata": {},
     "output_type": "execute_result"
    }
   ],
   "source": [
    "sigmoid(\n",
    "    np.dot(\n",
    "        example,\n",
    "        lr.coef_.reshape(\n",
    "            2,\n",
    "        ),\n",
    "    )\n",
    "    + lr.intercept_\n",
    ")"
   ]
  },
  {
   "cell_type": "markdown",
   "metadata": {},
   "source": [
    "This is the probability score of the positive class, which is USA. "
   ]
  },
  {
   "cell_type": "code",
   "execution_count": 47,
   "metadata": {
    "execution": {
     "iopub.execute_input": "2024-02-01T22:52:36.941493Z",
     "iopub.status.busy": "2024-02-01T22:52:36.941258Z",
     "iopub.status.idle": "2024-02-01T22:52:36.948117Z",
     "shell.execute_reply": "2024-02-01T22:52:36.947061Z",
     "shell.execute_reply.started": "2024-02-01T22:52:36.941473Z"
    }
   },
   "outputs": [
    {
     "data": {
      "text/plain": [
       "array([[0.87848688, 0.12151312]])"
      ]
     },
     "execution_count": 47,
     "metadata": {},
     "output_type": "execute_result"
    }
   ],
   "source": [
    "lr.predict_proba([example])"
   ]
  },
  {
   "cell_type": "markdown",
   "metadata": {},
   "source": [
    "With `predict_proba`, we get the same probability score for USA!!"
   ]
  },
  {
   "cell_type": "markdown",
   "metadata": {
    "slideshow": {
     "slide_type": "slide"
    }
   },
   "source": [
    "- Let's visualize probability scores for some examples. "
   ]
  },
  {
   "cell_type": "code",
   "execution_count": 73,
   "metadata": {
    "execution": {
     "iopub.execute_input": "2024-02-01T22:52:36.949519Z",
     "iopub.status.busy": "2024-02-01T22:52:36.949212Z",
     "iopub.status.idle": "2024-02-01T22:52:36.954829Z",
     "shell.execute_reply": "2024-02-01T22:52:36.953959Z",
     "shell.execute_reply.started": "2024-02-01T22:52:36.949494Z"
    },
    "slideshow": {
     "slide_type": "-"
    }
   },
   "outputs": [
    {
     "data": {
      "text/plain": [
       "list"
      ]
     },
     "execution_count": 73,
     "metadata": {},
     "output_type": "execute_result"
    }
   ],
   "source": [
    "data_dict = {\n",
    "    \"y\": y_train[:12],\n",
    "    \"y_hat\": lr.predict(X_train[:12]).tolist(),\n",
    "    \"probabilities\": lr.predict_proba(X_train[:12]).tolist(),\n",
    "}\n",
    "type(lr.predict(X_train[:12]).tolist())"
   ]
  },
  {
   "cell_type": "code",
   "execution_count": 49,
   "metadata": {
    "execution": {
     "iopub.execute_input": "2024-02-01T22:52:36.955791Z",
     "iopub.status.busy": "2024-02-01T22:52:36.955556Z",
     "iopub.status.idle": "2024-02-01T22:52:36.969481Z",
     "shell.execute_reply": "2024-02-01T22:52:36.968491Z",
     "shell.execute_reply.started": "2024-02-01T22:52:36.955771Z"
    },
    "slideshow": {
     "slide_type": "slide"
    }
   },
   "outputs": [
    {
     "data": {
      "text/html": [
       "<div>\n",
       "<style scoped>\n",
       "    .dataframe tbody tr th:only-of-type {\n",
       "        vertical-align: middle;\n",
       "    }\n",
       "\n",
       "    .dataframe tbody tr th {\n",
       "        vertical-align: top;\n",
       "    }\n",
       "\n",
       "    .dataframe thead th {\n",
       "        text-align: right;\n",
       "    }\n",
       "</style>\n",
       "<table border=\"1\" class=\"dataframe\">\n",
       "  <thead>\n",
       "    <tr style=\"text-align: right;\">\n",
       "      <th></th>\n",
       "      <th>y</th>\n",
       "      <th>y_hat</th>\n",
       "      <th>probabilities</th>\n",
       "    </tr>\n",
       "  </thead>\n",
       "  <tbody>\n",
       "    <tr>\n",
       "      <th>0</th>\n",
       "      <td>Canada</td>\n",
       "      <td>Canada</td>\n",
       "      <td>[0.7046068097086481, 0.2953931902913519]</td>\n",
       "    </tr>\n",
       "    <tr>\n",
       "      <th>1</th>\n",
       "      <td>Canada</td>\n",
       "      <td>Canada</td>\n",
       "      <td>[0.563016906204013, 0.436983093795987]</td>\n",
       "    </tr>\n",
       "    <tr>\n",
       "      <th>2</th>\n",
       "      <td>Canada</td>\n",
       "      <td>Canada</td>\n",
       "      <td>[0.8389680973255864, 0.16103190267441364]</td>\n",
       "    </tr>\n",
       "    <tr>\n",
       "      <th>3</th>\n",
       "      <td>Canada</td>\n",
       "      <td>Canada</td>\n",
       "      <td>[0.7964150775404333, 0.20358492245956678]</td>\n",
       "    </tr>\n",
       "    <tr>\n",
       "      <th>4</th>\n",
       "      <td>Canada</td>\n",
       "      <td>Canada</td>\n",
       "      <td>[0.9010806652340972, 0.0989193347659027]</td>\n",
       "    </tr>\n",
       "    <tr>\n",
       "      <th>5</th>\n",
       "      <td>Canada</td>\n",
       "      <td>Canada</td>\n",
       "      <td>[0.7753006388010791, 0.2246993611989209]</td>\n",
       "    </tr>\n",
       "    <tr>\n",
       "      <th>6</th>\n",
       "      <td>USA</td>\n",
       "      <td>USA</td>\n",
       "      <td>[0.03074070460652778, 0.9692592953934722]</td>\n",
       "    </tr>\n",
       "    <tr>\n",
       "      <th>7</th>\n",
       "      <td>Canada</td>\n",
       "      <td>Canada</td>\n",
       "      <td>[0.6880304799160918, 0.3119695200839082]</td>\n",
       "    </tr>\n",
       "    <tr>\n",
       "      <th>8</th>\n",
       "      <td>Canada</td>\n",
       "      <td>Canada</td>\n",
       "      <td>[0.7891358587234145, 0.21086414127658554]</td>\n",
       "    </tr>\n",
       "    <tr>\n",
       "      <th>9</th>\n",
       "      <td>USA</td>\n",
       "      <td>USA</td>\n",
       "      <td>[0.006546969753885357, 0.9934530302461146]</td>\n",
       "    </tr>\n",
       "    <tr>\n",
       "      <th>10</th>\n",
       "      <td>USA</td>\n",
       "      <td>USA</td>\n",
       "      <td>[0.2787419584843098, 0.7212580415156902]</td>\n",
       "    </tr>\n",
       "    <tr>\n",
       "      <th>11</th>\n",
       "      <td>Canada</td>\n",
       "      <td>Canada</td>\n",
       "      <td>[0.8388877146644942, 0.1611122853355058]</td>\n",
       "    </tr>\n",
       "  </tbody>\n",
       "</table>\n",
       "</div>"
      ],
      "text/plain": [
       "         y   y_hat                               probabilities\n",
       "0   Canada  Canada    [0.7046068097086481, 0.2953931902913519]\n",
       "1   Canada  Canada      [0.563016906204013, 0.436983093795987]\n",
       "2   Canada  Canada   [0.8389680973255864, 0.16103190267441364]\n",
       "3   Canada  Canada   [0.7964150775404333, 0.20358492245956678]\n",
       "4   Canada  Canada    [0.9010806652340972, 0.0989193347659027]\n",
       "5   Canada  Canada    [0.7753006388010791, 0.2246993611989209]\n",
       "6      USA     USA   [0.03074070460652778, 0.9692592953934722]\n",
       "7   Canada  Canada    [0.6880304799160918, 0.3119695200839082]\n",
       "8   Canada  Canada   [0.7891358587234145, 0.21086414127658554]\n",
       "9      USA     USA  [0.006546969753885357, 0.9934530302461146]\n",
       "10     USA     USA    [0.2787419584843098, 0.7212580415156902]\n",
       "11  Canada  Canada    [0.8388877146644942, 0.1611122853355058]"
      ]
     },
     "execution_count": 49,
     "metadata": {},
     "output_type": "execute_result"
    }
   ],
   "source": [
    "pd.DataFrame(data_dict)"
   ]
  },
  {
   "cell_type": "markdown",
   "metadata": {
    "slideshow": {
     "slide_type": "-"
    }
   },
   "source": [
    "The actual `y` and `y_hat` match in most of the cases but in some cases the model is more confident about the prediction than others. "
   ]
  },
  {
   "cell_type": "markdown",
   "metadata": {},
   "source": [
    "<br><br>"
   ]
  },
  {
   "cell_type": "markdown",
   "metadata": {
    "slideshow": {
     "slide_type": "slide"
    }
   },
   "source": [
    "#### Least confident cases \n",
    "\n",
    "Let's examine some cases where the model is least confident about the prediction. "
   ]
  },
  {
   "cell_type": "code",
   "execution_count": 50,
   "metadata": {
    "execution": {
     "iopub.execute_input": "2024-02-01T22:52:36.970836Z",
     "iopub.status.busy": "2024-02-01T22:52:36.970574Z",
     "iopub.status.idle": "2024-02-01T22:52:36.979326Z",
     "shell.execute_reply": "2024-02-01T22:52:36.978267Z",
     "shell.execute_reply.started": "2024-02-01T22:52:36.970813Z"
    }
   },
   "outputs": [
    {
     "data": {
      "text/plain": [
       "array([[ -79.7599,   43.6858],\n",
       "       [-123.078 ,   48.9854]])"
      ]
     },
     "execution_count": 50,
     "metadata": {},
     "output_type": "execute_result"
    }
   ],
   "source": [
    "least_confident_X = X_train[[127, 141]]\n",
    "least_confident_X"
   ]
  },
  {
   "cell_type": "code",
   "execution_count": 51,
   "metadata": {
    "execution": {
     "iopub.execute_input": "2024-02-01T22:52:36.981495Z",
     "iopub.status.busy": "2024-02-01T22:52:36.980817Z",
     "iopub.status.idle": "2024-02-01T22:52:36.989464Z",
     "shell.execute_reply": "2024-02-01T22:52:36.987792Z",
     "shell.execute_reply.started": "2024-02-01T22:52:36.981460Z"
    },
    "slideshow": {
     "slide_type": "-"
    }
   },
   "outputs": [
    {
     "data": {
      "text/plain": [
       "array(['Canada', 'USA'], dtype=object)"
      ]
     },
     "execution_count": 51,
     "metadata": {},
     "output_type": "execute_result"
    }
   ],
   "source": [
    "least_confident_y = y_train[[127, 141]]\n",
    "least_confident_y"
   ]
  },
  {
   "cell_type": "code",
   "execution_count": 52,
   "metadata": {
    "execution": {
     "iopub.execute_input": "2024-02-01T22:52:36.992150Z",
     "iopub.status.busy": "2024-02-01T22:52:36.991127Z",
     "iopub.status.idle": "2024-02-01T22:52:37.010248Z",
     "shell.execute_reply": "2024-02-01T22:52:37.008386Z",
     "shell.execute_reply.started": "2024-02-01T22:52:36.992055Z"
    },
    "slideshow": {
     "slide_type": "slide"
    }
   },
   "outputs": [
    {
     "data": {
      "text/html": [
       "<div>\n",
       "<style scoped>\n",
       "    .dataframe tbody tr th:only-of-type {\n",
       "        vertical-align: middle;\n",
       "    }\n",
       "\n",
       "    .dataframe tbody tr th {\n",
       "        vertical-align: top;\n",
       "    }\n",
       "\n",
       "    .dataframe thead th {\n",
       "        text-align: right;\n",
       "    }\n",
       "</style>\n",
       "<table border=\"1\" class=\"dataframe\">\n",
       "  <thead>\n",
       "    <tr style=\"text-align: right;\">\n",
       "      <th></th>\n",
       "      <th>y</th>\n",
       "      <th>y_hat</th>\n",
       "      <th>probability score (Canada)</th>\n",
       "      <th>probability score (USA)</th>\n",
       "    </tr>\n",
       "  </thead>\n",
       "  <tbody>\n",
       "    <tr>\n",
       "      <th>0</th>\n",
       "      <td>Canada</td>\n",
       "      <td>Canada</td>\n",
       "      <td>0.634392</td>\n",
       "      <td>0.365608</td>\n",
       "    </tr>\n",
       "    <tr>\n",
       "      <th>1</th>\n",
       "      <td>USA</td>\n",
       "      <td>Canada</td>\n",
       "      <td>0.635666</td>\n",
       "      <td>0.364334</td>\n",
       "    </tr>\n",
       "  </tbody>\n",
       "</table>\n",
       "</div>"
      ],
      "text/plain": [
       "        y   y_hat  probability score (Canada)  probability score (USA)\n",
       "0  Canada  Canada                    0.634392                 0.365608\n",
       "1     USA  Canada                    0.635666                 0.364334"
      ]
     },
     "execution_count": 52,
     "metadata": {},
     "output_type": "execute_result"
    }
   ],
   "source": [
    "probs = lr.predict_proba(least_confident_X)\n",
    "\n",
    "data_dict = {\n",
    "    \"y\": least_confident_y,\n",
    "    \"y_hat\": lr.predict(least_confident_X).tolist(),\n",
    "    \"probability score (Canada)\": probs[:, 0],\n",
    "    \"probability score (USA)\": probs[:, 1],\n",
    "}\n",
    "pd.DataFrame(data_dict)"
   ]
  },
  {
   "cell_type": "code",
   "execution_count": 53,
   "metadata": {
    "execution": {
     "iopub.execute_input": "2024-02-01T22:52:37.013029Z",
     "iopub.status.busy": "2024-02-01T22:52:37.012412Z",
     "iopub.status.idle": "2024-02-01T22:52:37.249029Z",
     "shell.execute_reply": "2024-02-01T22:52:37.247860Z",
     "shell.execute_reply.started": "2024-02-01T22:52:37.012823Z"
    },
    "slideshow": {
     "slide_type": "slide"
    }
   },
   "outputs": [
    {
     "data": {
      "image/png": "[encoded data removed]",
      "text/plain": [
       "<Figure size 640x480 with 1 Axes>"
      ]
     },
     "metadata": {},
     "output_type": "display_data"
    }
   ],
   "source": [
    "mglearn.discrete_scatter(\n",
    "    least_confident_X[:, 0],\n",
    "    least_confident_X[:, 1],\n",
    "    least_confident_y,\n",
    "    markers=\"o\",\n",
    ")\n",
    "plot_2d_separator(lr, X_train, fill=True, eps=0.5, alpha=0.5)"
   ]
  },
  {
   "cell_type": "markdown",
   "metadata": {},
   "source": [
    "The points are close to the decision boundary which makes sense. "
   ]
  },
  {
   "cell_type": "markdown",
   "metadata": {
    "slideshow": {
     "slide_type": "slide"
    },
    "tags": []
   },
   "source": [
    "#### Most confident cases \n",
    "\n",
    "Let's examine some cases where the model is most confident about the prediction. "
   ]
  },
  {
   "cell_type": "code",
   "execution_count": 54,
   "metadata": {
    "execution": {
     "iopub.execute_input": "2024-02-01T22:52:37.252450Z",
     "iopub.status.busy": "2024-02-01T22:52:37.251046Z",
     "iopub.status.idle": "2024-02-01T22:52:37.260978Z",
     "shell.execute_reply": "2024-02-01T22:52:37.259267Z",
     "shell.execute_reply.started": "2024-02-01T22:52:37.252411Z"
    }
   },
   "outputs": [
    {
     "data": {
      "text/plain": [
       "array([[-110.9748,   32.2229],\n",
       "       [ -67.9245,   47.1652]])"
      ]
     },
     "execution_count": 54,
     "metadata": {},
     "output_type": "execute_result"
    }
   ],
   "source": [
    "most_confident_X = X_train[[37, 4]]\n",
    "most_confident_X"
   ]
  },
  {
   "cell_type": "code",
   "execution_count": 55,
   "metadata": {
    "execution": {
     "iopub.execute_input": "2024-02-01T22:52:37.263118Z",
     "iopub.status.busy": "2024-02-01T22:52:37.262421Z",
     "iopub.status.idle": "2024-02-01T22:52:37.272233Z",
     "shell.execute_reply": "2024-02-01T22:52:37.271027Z",
     "shell.execute_reply.started": "2024-02-01T22:52:37.263079Z"
    }
   },
   "outputs": [
    {
     "data": {
      "text/plain": [
       "array(['USA', 'Canada'], dtype=object)"
      ]
     },
     "execution_count": 55,
     "metadata": {},
     "output_type": "execute_result"
    }
   ],
   "source": [
    "most_confident_y = y_train[[37, 165]]\n",
    "most_confident_y"
   ]
  },
  {
   "cell_type": "code",
   "execution_count": 56,
   "metadata": {
    "execution": {
     "iopub.execute_input": "2024-02-01T22:52:37.275217Z",
     "iopub.status.busy": "2024-02-01T22:52:37.274006Z",
     "iopub.status.idle": "2024-02-01T22:52:37.290906Z",
     "shell.execute_reply": "2024-02-01T22:52:37.289066Z",
     "shell.execute_reply.started": "2024-02-01T22:52:37.275179Z"
    },
    "slideshow": {
     "slide_type": "slide"
    },
    "tags": []
   },
   "outputs": [
    {
     "data": {
      "text/html": [
       "<div>\n",
       "<style scoped>\n",
       "    .dataframe tbody tr th:only-of-type {\n",
       "        vertical-align: middle;\n",
       "    }\n",
       "\n",
       "    .dataframe tbody tr th {\n",
       "        vertical-align: top;\n",
       "    }\n",
       "\n",
       "    .dataframe thead th {\n",
       "        text-align: right;\n",
       "    }\n",
       "</style>\n",
       "<table border=\"1\" class=\"dataframe\">\n",
       "  <thead>\n",
       "    <tr style=\"text-align: right;\">\n",
       "      <th></th>\n",
       "      <th>y</th>\n",
       "      <th>y_hat</th>\n",
       "      <th>probability score (Canada)</th>\n",
       "      <th>probability score (USA)</th>\n",
       "    </tr>\n",
       "  </thead>\n",
       "  <tbody>\n",
       "    <tr>\n",
       "      <th>0</th>\n",
       "      <td>USA</td>\n",
       "      <td>USA</td>\n",
       "      <td>0.010028</td>\n",
       "      <td>0.989972</td>\n",
       "    </tr>\n",
       "    <tr>\n",
       "      <th>1</th>\n",
       "      <td>Canada</td>\n",
       "      <td>Canada</td>\n",
       "      <td>0.901081</td>\n",
       "      <td>0.098919</td>\n",
       "    </tr>\n",
       "  </tbody>\n",
       "</table>\n",
       "</div>"
      ],
      "text/plain": [
       "        y   y_hat  probability score (Canada)  probability score (USA)\n",
       "0     USA     USA                    0.010028                 0.989972\n",
       "1  Canada  Canada                    0.901081                 0.098919"
      ]
     },
     "execution_count": 56,
     "metadata": {},
     "output_type": "execute_result"
    }
   ],
   "source": [
    "probs = lr.predict_proba(most_confident_X)\n",
    "\n",
    "data_dict = {\n",
    "    \"y\": most_confident_y,\n",
    "    \"y_hat\": lr.predict(most_confident_X).tolist(),\n",
    "    \"probability score (Canada)\": probs[:, 0],\n",
    "    \"probability score (USA)\": probs[:, 1],\n",
    "}\n",
    "pd.DataFrame(data_dict)"
   ]
  },
  {
   "cell_type": "code",
   "execution_count": 57,
   "metadata": {
    "execution": {
     "iopub.execute_input": "2024-02-01T22:52:37.293552Z",
     "iopub.status.busy": "2024-02-01T22:52:37.292684Z",
     "iopub.status.idle": "2024-02-01T22:52:37.306622Z",
     "shell.execute_reply": "2024-02-01T22:52:37.305102Z",
     "shell.execute_reply.started": "2024-02-01T22:52:37.293509Z"
    },
    "tags": []
   },
   "outputs": [
    {
     "data": {
      "text/plain": [
       "array([[-110.9748,   32.2229],\n",
       "       [ -67.9245,   47.1652]])"
      ]
     },
     "execution_count": 57,
     "metadata": {},
     "output_type": "execute_result"
    }
   ],
   "source": [
    "most_confident_X"
   ]
  },
  {
   "cell_type": "code",
   "execution_count": 58,
   "metadata": {
    "execution": {
     "iopub.execute_input": "2024-02-01T22:52:37.308382Z",
     "iopub.status.busy": "2024-02-01T22:52:37.308001Z",
     "iopub.status.idle": "2024-02-01T22:52:37.564684Z",
     "shell.execute_reply": "2024-02-01T22:52:37.562913Z",
     "shell.execute_reply.started": "2024-02-01T22:52:37.308332Z"
    },
    "slideshow": {
     "slide_type": "slide"
    },
    "tags": []
   },
   "outputs": [
    {
     "data": {
      "image/png": "[encoded data removed]",
      "text/plain": [
       "<Figure size 640x480 with 1 Axes>"
      ]
     },
     "metadata": {},
     "output_type": "display_data"
    }
   ],
   "source": [
    "mglearn.discrete_scatter(\n",
    "    most_confident_X[:, 0],\n",
    "    most_confident_X[:, 1],\n",
    "    most_confident_y,\n",
    "    markers=\"o\",\n",
    ")\n",
    "plot_2d_separator(lr, X_train, fill=True, eps=0.5, alpha=0.5)"
   ]
  },
  {
   "cell_type": "markdown",
   "metadata": {},
   "source": [
    "The points are far away from the decision boundary which makes sense. "
   ]
  },
  {
   "cell_type": "markdown",
   "metadata": {
    "slideshow": {
     "slide_type": "slide"
    }
   },
   "source": [
    "#### Over confident cases\n",
    "\n",
    "Let's examine some cases where the model is confident about the prediction but the prediction is wrong. "
   ]
  },
  {
   "cell_type": "code",
   "execution_count": 59,
   "metadata": {
    "execution": {
     "iopub.execute_input": "2024-02-01T22:52:37.566133Z",
     "iopub.status.busy": "2024-02-01T22:52:37.565888Z",
     "iopub.status.idle": "2024-02-01T22:52:37.575180Z",
     "shell.execute_reply": "2024-02-01T22:52:37.573620Z",
     "shell.execute_reply.started": "2024-02-01T22:52:37.566110Z"
    },
    "tags": []
   },
   "outputs": [
    {
     "data": {
      "text/plain": [
       "(array([25, 55, 98]),)"
      ]
     },
     "execution_count": 59,
     "metadata": {},
     "output_type": "execute_result"
    }
   ],
   "source": [
    "np.where(X_train[:,1] > 55)  # latitudes above 55"
   ]
  },
  {
   "cell_type": "code",
   "execution_count": 60,
   "metadata": {
    "execution": {
     "iopub.execute_input": "2024-02-01T22:52:37.577877Z",
     "iopub.status.busy": "2024-02-01T22:52:37.577245Z",
     "iopub.status.idle": "2024-02-01T22:52:37.588484Z",
     "shell.execute_reply": "2024-02-01T22:52:37.587463Z",
     "shell.execute_reply.started": "2024-02-01T22:52:37.577815Z"
    },
    "tags": []
   },
   "outputs": [
    {
     "data": {
      "text/plain": [
       "array(['Canada', 'USA', 'USA'], dtype=object)"
      ]
     },
     "execution_count": 60,
     "metadata": {},
     "output_type": "execute_result"
    }
   ],
   "source": [
    "y_train[[25, 55, 98]]"
   ]
  },
  {
   "cell_type": "code",
   "execution_count": 61,
   "metadata": {
    "execution": {
     "iopub.execute_input": "2024-02-01T22:52:37.590458Z",
     "iopub.status.busy": "2024-02-01T22:52:37.590059Z",
     "iopub.status.idle": "2024-02-01T22:52:37.600217Z",
     "shell.execute_reply": "2024-02-01T22:52:37.598873Z",
     "shell.execute_reply.started": "2024-02-01T22:52:37.590423Z"
    },
    "tags": []
   },
   "outputs": [
    {
     "data": {
      "text/plain": [
       "array([[-130.0437,   55.9773],\n",
       "       [-134.4197,   58.3019]])"
      ]
     },
     "execution_count": 61,
     "metadata": {},
     "output_type": "execute_result"
    }
   ],
   "source": [
    "over_confident_X = X_train[[55, 98]]\n",
    "over_confident_X"
   ]
  },
  {
   "cell_type": "code",
   "execution_count": 62,
   "metadata": {
    "execution": {
     "iopub.execute_input": "2024-02-01T22:52:37.602424Z",
     "iopub.status.busy": "2024-02-01T22:52:37.602069Z",
     "iopub.status.idle": "2024-02-01T22:52:37.609978Z",
     "shell.execute_reply": "2024-02-01T22:52:37.608720Z",
     "shell.execute_reply.started": "2024-02-01T22:52:37.602400Z"
    },
    "tags": []
   },
   "outputs": [
    {
     "data": {
      "text/plain": [
       "array(['USA', 'USA'], dtype=object)"
      ]
     },
     "execution_count": 62,
     "metadata": {},
     "output_type": "execute_result"
    }
   ],
   "source": [
    "over_confident_y = y_train[[55, 98]]\n",
    "over_confident_y"
   ]
  },
  {
   "cell_type": "code",
   "execution_count": 63,
   "metadata": {
    "execution": {
     "iopub.execute_input": "2024-02-01T22:52:37.612243Z",
     "iopub.status.busy": "2024-02-01T22:52:37.611621Z",
     "iopub.status.idle": "2024-02-01T22:52:37.634780Z",
     "shell.execute_reply": "2024-02-01T22:52:37.631391Z",
     "shell.execute_reply.started": "2024-02-01T22:52:37.612216Z"
    },
    "slideshow": {
     "slide_type": "slide"
    },
    "tags": []
   },
   "outputs": [
    {
     "data": {
      "text/html": [
       "<div>\n",
       "<style scoped>\n",
       "    .dataframe tbody tr th:only-of-type {\n",
       "        vertical-align: middle;\n",
       "    }\n",
       "\n",
       "    .dataframe tbody tr th {\n",
       "        vertical-align: top;\n",
       "    }\n",
       "\n",
       "    .dataframe thead th {\n",
       "        text-align: right;\n",
       "    }\n",
       "</style>\n",
       "<table border=\"1\" class=\"dataframe\">\n",
       "  <thead>\n",
       "    <tr style=\"text-align: right;\">\n",
       "      <th></th>\n",
       "      <th>y</th>\n",
       "      <th>y_hat</th>\n",
       "      <th>probability score (Canada)</th>\n",
       "      <th>probability score (USA)</th>\n",
       "    </tr>\n",
       "  </thead>\n",
       "  <tbody>\n",
       "    <tr>\n",
       "      <th>0</th>\n",
       "      <td>USA</td>\n",
       "      <td>Canada</td>\n",
       "      <td>0.932487</td>\n",
       "      <td>0.067513</td>\n",
       "    </tr>\n",
       "    <tr>\n",
       "      <th>1</th>\n",
       "      <td>USA</td>\n",
       "      <td>Canada</td>\n",
       "      <td>0.961902</td>\n",
       "      <td>0.038098</td>\n",
       "    </tr>\n",
       "  </tbody>\n",
       "</table>\n",
       "</div>"
      ],
      "text/plain": [
       "     y   y_hat  probability score (Canada)  probability score (USA)\n",
       "0  USA  Canada                    0.932487                 0.067513\n",
       "1  USA  Canada                    0.961902                 0.038098"
      ]
     },
     "execution_count": 63,
     "metadata": {},
     "output_type": "execute_result"
    }
   ],
   "source": [
    "probs = lr.predict_proba(over_confident_X)\n",
    "\n",
    "data_dict = {\n",
    "    \"y\": over_confident_y,\n",
    "    \"y_hat\": lr.predict(over_confident_X).tolist(),\n",
    "    \"probability score (Canada)\": probs[:, 0],\n",
    "    \"probability score (USA)\": probs[:, 1],\n",
    "}\n",
    "pd.DataFrame(data_dict)"
   ]
  },
  {
   "cell_type": "code",
   "execution_count": 64,
   "metadata": {
    "execution": {
     "iopub.execute_input": "2024-02-01T22:52:37.637696Z",
     "iopub.status.busy": "2024-02-01T22:52:37.636810Z",
     "iopub.status.idle": "2024-02-01T22:52:37.882020Z",
     "shell.execute_reply": "2024-02-01T22:52:37.880060Z",
     "shell.execute_reply.started": "2024-02-01T22:52:37.637652Z"
    },
    "slideshow": {
     "slide_type": "slide"
    },
    "tags": []
   },
   "outputs": [
    {
     "data": {
      "image/png": "[encoded data removed]",
      "text/plain": [
       "<Figure size 640x480 with 1 Axes>"
      ]
     },
     "metadata": {},
     "output_type": "display_data"
    }
   ],
   "source": [
    "mglearn.discrete_scatter(\n",
    "    over_confident_X[:, 0],\n",
    "    over_confident_X[:, 1],\n",
    "    over_confident_y,\n",
    "    markers=\"o\",\n",
    ")\n",
    "plot_2d_separator(lr, X_train, fill=True, eps=0.5, alpha=0.5)"
   ]
  },
  {
   "cell_type": "markdown",
   "metadata": {},
   "source": [
    "- The cities are far away from the decision boundary. So the model is pretty confident about the prediction. \n",
    "- But the cities are **likely to be from Alaska** and our **linear model is not able to capture that** this part belong to the USA and not Canada."
   ]
  },
  {
   "cell_type": "markdown",
   "metadata": {
    "slideshow": {
     "slide_type": "slide"
    }
   },
   "source": [
    "Below we are using colour to represent prediction probabilities. If you are closer to the border, the model is less confident whereas the model is more confident about the mainland cities, which makes sense.  "
   ]
  },
  {
   "cell_type": "code",
   "execution_count": 65,
   "metadata": {
    "execution": {
     "iopub.execute_input": "2024-02-01T22:52:37.885065Z",
     "iopub.status.busy": "2024-02-01T22:52:37.883838Z",
     "iopub.status.idle": "2024-02-01T22:52:38.729082Z",
     "shell.execute_reply": "2024-02-01T22:52:38.727976Z",
     "shell.execute_reply.started": "2024-02-01T22:52:37.885029Z"
    },
    "slideshow": {
     "slide_type": "slide"
    }
   },
   "outputs": [
    {
     "data": {
      "image/png": "[encoded data removed]",
      "text/plain": [
       "<Figure size 1800x500 with 3 Axes>"
      ]
     },
     "metadata": {},
     "output_type": "display_data"
    }
   ],
   "source": [
    "fig, axes = plt.subplots(1, 2, figsize=(18, 5))\n",
    "from matplotlib.colors import ListedColormap\n",
    "\n",
    "for ax in axes:\n",
    "    discrete_scatter(\n",
    "        X_train[:, 0], X_train[:, 1], y_train, markers=\"o\", ax=ax\n",
    "    )\n",
    "    ax.set_xlabel(\"longitude\")\n",
    "    ax.set_ylabel(\"latitude\")\n",
    "\n",
    "axes[0].legend([\"Train class 0\", \"Train class 1\"], ncol=2, loc=(0.1, 1.1))\n",
    "\n",
    "plot_2d_separator(\n",
    "    lr, X_train, fill=True, eps=0.5, ax=axes[0], alpha=0.5\n",
    ")\n",
    "plot_2d_separator(\n",
    "    lr, X_train, fill=False, eps=0.5, ax=axes[1], alpha=0.5\n",
    ")\n",
    "scores_image = plot_2d_scores(\n",
    "    lr, X_train, eps=0.5, ax=axes[1], alpha=0.5, cm=plt.cm.coolwarm\n",
    ")\n",
    "cbar = plt.colorbar(scores_image, ax=axes.tolist())"
   ]
  },
  {
   "cell_type": "markdown",
   "metadata": {
    "slideshow": {
     "slide_type": "slide"
    }
   },
   "source": [
    "Sometimes a complex model that is overfitted, tends to make more confident predictions, even if they are wrong, whereas a simpler model tends to make predictions with more uncertainty. "
   ]
  },
  {
   "cell_type": "markdown",
   "metadata": {
    "slideshow": {
     "slide_type": "slide"
    }
   },
   "source": [
    "To summarize, \n",
    "- With hard predictions, we only know the class. \n",
    "- With probability scores we know how confident the model is with certain predictions, which can be useful in understanding the model better. "
   ]
  },
  {
   "cell_type": "markdown",
   "metadata": {
    "slideshow": {
     "slide_type": "slide"
    }
   },
   "source": [
    "## ❓❓ Questions for you"
   ]
  },
  {
   "cell_type": "markdown",
   "metadata": {
    "slideshow": {
     "slide_type": "slide"
    }
   },
   "source": [
    "### (iClicker) Exercise 7.2 \n",
    "\n",
    "**iClicker cloud join link: https://join.iclicker.com/FSLV**\n",
    "\n",
    "**Select all of the following statements which are TRUE.**\n",
    "\n",
    "- (A) Increasing logistic regression's `C` hyperparameter increases model complexity.\n",
    "- (B) The raw output score can be used to calculate the probability score for a given prediction. \n",
    "- (C) For linear classifier trained on $d$ features, the decision boundary is a $d-1$-dimensional hyperparlane.  \n",
    "- (D) A linear model is likely to be uncertain about the data points close to the decision boundary. "
   ]
  },
  {
   "cell_type": "markdown",
   "metadata": {},
   "source": [
    "<br><br><br><br>"
   ]
  },
  {
   "cell_type": "markdown",
   "metadata": {
    "slideshow": {
     "slide_type": "slide"
    }
   },
   "source": [
    "### Linear SVM \n",
    "\n",
    "- We have seen non-linear SVM with RBF kernel before. This is the default SVC model in `sklearn` because it tends to work better in many cases. \n",
    "- There is also a linear SVM. You can pass `kernel=\"linear\"` to create a linear SVM. "
   ]
  },
  {
   "cell_type": "code",
   "execution_count": 66,
   "metadata": {
    "execution": {
     "iopub.execute_input": "2024-02-01T22:52:38.730312Z",
     "iopub.status.busy": "2024-02-01T22:52:38.730019Z",
     "iopub.status.idle": "2024-02-01T22:52:38.745731Z",
     "shell.execute_reply": "2024-02-01T22:52:38.744375Z",
     "shell.execute_reply.started": "2024-02-01T22:52:38.730285Z"
    },
    "slideshow": {
     "slide_type": "slide"
    }
   },
   "outputs": [],
   "source": [
    "cities_df = pd.read_csv(\"../data/canada_usa_cities.csv\")\n",
    "train_df, test_df = train_test_split(cities_df, test_size=0.2, random_state=123)\n",
    "X_train, y_train = train_df.drop(columns=[\"country\"]).values, train_df[\"country\"].values\n",
    "X_test, y_test = test_df.drop(columns=[\"country\"]).values, test_df[\"country\"].values"
   ]
  },
  {
   "cell_type": "code",
   "execution_count": 67,
   "metadata": {
    "execution": {
     "iopub.execute_input": "2024-02-01T22:52:38.747701Z",
     "iopub.status.busy": "2024-02-01T22:52:38.747184Z",
     "iopub.status.idle": "2024-02-01T22:52:44.134518Z",
     "shell.execute_reply": "2024-02-01T22:52:44.132593Z",
     "shell.execute_reply.started": "2024-02-01T22:52:38.747657Z"
    },
    "slideshow": {
     "slide_type": "slide"
    }
   },
   "outputs": [
    {
     "data": {
      "image/png": "[encoded data removed]",
      "text/plain": [
       "<Figure size 1800x500 with 2 Axes>"
      ]
     },
     "metadata": {},
     "output_type": "display_data"
    }
   ],
   "source": [
    "fig, axes = plt.subplots(1, 2, figsize=(18, 5))\n",
    "from matplotlib.colors import ListedColormap\n",
    "\n",
    "for (model, ax) in zip([SVC(gamma=0.01), SVC(kernel=\"linear\")], axes):\n",
    "    mglearn.discrete_scatter(\n",
    "        X_train[:, 0], X_train[:, 1], y_train, markers=\"o\", ax=ax\n",
    "    )\n",
    "    model.fit(X_train, y_train)\n",
    "    ax.set_xlabel(\"longitude\")\n",
    "    ax.set_ylabel(\"latitude\")\n",
    "    plot_2d_separator(\n",
    "        model, X_train, fill=True, eps=0.5, ax=ax, alpha=0.5\n",
    "    )\n",
    "\n",
    "axes[0].set_title(\"SVM RBF\")\n",
    "axes[1].set_title(\"Linear SVM\");"
   ]
  },
  {
   "cell_type": "markdown",
   "metadata": {
    "slideshow": {
     "slide_type": "slide"
    }
   },
   "source": [
    "- `predict` method of linear SVM and logistic regression works the same way. \n",
    "- We can get `coef_` associated with the features and `intercept_` using a Linear SVM model. "
   ]
  },
  {
   "cell_type": "code",
   "execution_count": 68,
   "metadata": {
    "execution": {
     "iopub.execute_input": "2024-02-01T22:52:44.145335Z",
     "iopub.status.busy": "2024-02-01T22:52:44.144587Z",
     "iopub.status.idle": "2024-02-01T22:52:44.161187Z",
     "shell.execute_reply": "2024-02-01T22:52:44.160129Z",
     "shell.execute_reply.started": "2024-02-01T22:52:44.145308Z"
    },
    "slideshow": {
     "slide_type": "slide"
    }
   },
   "outputs": [
    {
     "name": "stdout",
     "output_type": "stream",
     "text": [
      "Model weights: [[-0.0195598  -0.23640124]]\n",
      "Model intercept: [8.22811601]\n"
     ]
    }
   ],
   "source": [
    "linear_svc = SVC(kernel=\"linear\")\n",
    "linear_svc.fit(X_train, y_train)\n",
    "print(\"Model weights: %s\" % (linear_svc.coef_))\n",
    "print(\"Model intercept: %s\" % (linear_svc.intercept_))"
   ]
  },
  {
   "cell_type": "code",
   "execution_count": 69,
   "metadata": {
    "execution": {
     "iopub.execute_input": "2024-02-01T22:52:44.162663Z",
     "iopub.status.busy": "2024-02-01T22:52:44.162225Z",
     "iopub.status.idle": "2024-02-01T22:52:44.186168Z",
     "shell.execute_reply": "2024-02-01T22:52:44.184738Z",
     "shell.execute_reply.started": "2024-02-01T22:52:44.162636Z"
    }
   },
   "outputs": [
    {
     "name": "stdout",
     "output_type": "stream",
     "text": [
      "Model weights: [[-0.04108149 -0.33683126]]\n",
      "Model intercept: [10.8869838]\n"
     ]
    }
   ],
   "source": [
    "lr = LogisticRegression()\n",
    "lr.fit(X_train, y_train)\n",
    "print(\"Model weights: %s\" % (lr.coef_))\n",
    "print(\"Model intercept: %s\" % (lr.intercept_))"
   ]
  },
  {
   "cell_type": "markdown",
   "metadata": {},
   "source": [
    "- Note that the coefficients and intercept are slightly different for logistic regression. \n",
    "- This is because the `fit` for linear SVM and logistic regression are different. "
   ]
  },
  {
   "cell_type": "markdown",
   "metadata": {},
   "source": [
    "<br><br><br><br>"
   ]
  },
  {
   "cell_type": "markdown",
   "metadata": {
    "slideshow": {
     "slide_type": "skip"
    }
   },
   "source": [
    "<br><br><br><br>"
   ]
  },
  {
   "cell_type": "markdown",
   "metadata": {
    "slideshow": {
     "slide_type": "slide"
    }
   },
   "source": [
    "## Summary of linear models \n",
    "\n",
    "- Linear regression is a linear model for regression whereas logistic regression is a linear model for classification. \n",
    "- Both these models learn one coefficient per feature, plus an intercept. "
   ]
  },
  {
   "cell_type": "markdown",
   "metadata": {
    "slideshow": {
     "slide_type": "skip"
    }
   },
   "source": [
    "### Main hyperparameters \n",
    "- The main hyperparameter is the \"regularization\" hyperparameter controlling the fundamental tradeoff. \n",
    "    - Logistic Regression: `C`\n",
    "    - Linear SVM: `C` \n",
    "    - Ridge: `alpha`"
   ]
  },
  {
   "cell_type": "markdown",
   "metadata": {
    "slideshow": {
     "slide_type": "slide"
    }
   },
   "source": [
    "### Interpretation of coefficients in linear models \n",
    "- the $j$th coefficient tells us how feature $j$ affects the prediction\n",
    "- if $w_j > 0$ then increasing $x_{ij}$ moves us toward predicting $+1$\n",
    "- if $w_j < 0$ then increasing $x_{ij}$ moves us toward prediction $-1$\n",
    "- if $w_j == 0$ then the feature is not used in making a prediction"
   ]
  },
  {
   "cell_type": "markdown",
   "metadata": {
    "slideshow": {
     "slide_type": "slide"
    }
   },
   "source": [
    "### Strengths of linear models \n",
    "\n",
    "- Fast to train and predict\n",
    "- Scale to large datasets and work well with sparse data \n",
    "- Relatively easy to understand and interpret the predictions\n",
    "- Perform well when there is a large number of features "
   ]
  },
  {
   "cell_type": "markdown",
   "metadata": {
    "slideshow": {
     "slide_type": "slide"
    }
   },
   "source": [
    "### Limitations of linear models \n",
    "\n",
    "- Is your data \"linearly separable\"? Can you draw a hyperplane between these datapoints that separates them with 0 error. \n",
    "    - If the training examples can be separated by a linear decision rule, they are **linearly separable**.\n"
   ]
  },
  {
   "cell_type": "markdown",
   "metadata": {
    "slideshow": {
     "slide_type": "slide"
    }
   },
   "source": [
    "\n",
    "A few questions you might be thinking about\n",
    "- How often the real-life data is linearly separable?\n",
    "- Is the following XOR function linearly separable?  \n",
    "\n",
    "| $$x_1$$ | $$x_2$$ | target|\n",
    "|---------|---------|---------|\n",
    "| 0 | 0  | 0|\n",
    "| 0 | 1  | 1|\n",
    "| 1 | 0  | 1|\n",
    "| 1 | 1  | 0|    \n",
    "\n",
    "- Are linear classifiers very limiting because of this?     "
   ]
  }
 ],
 "metadata": {
  "celltoolbar": "Slideshow",
  "kernelspec": {
   "display_name": "Python [conda env:cpsc330]",
   "language": "python",
   "name": "conda-env-cpsc330-py"
  },
  "language_info": {
   "codemirror_mode": {
    "name": "ipython",
    "version": 3
   },
   "file_extension": ".py",
   "mimetype": "text/x-python",
   "name": "python",
   "nbconvert_exporter": "python",
   "pygments_lexer": "ipython3",
   "version": "3.10.0"
  }
 },
 "nbformat": 4,
 "nbformat_minor": 4
}
